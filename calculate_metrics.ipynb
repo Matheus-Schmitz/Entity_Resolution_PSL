{
 "cells": [
  {
   "cell_type": "markdown",
   "id": "qualified-executive",
   "metadata": {},
   "source": [
    "## Load Truth and Predictions"
   ]
  },
  {
   "cell_type": "code",
   "execution_count": 1,
   "id": "nervous-negotiation",
   "metadata": {},
   "outputs": [],
   "source": [
    "import pandas as pd\n",
    "from tqdm import tqdm"
   ]
  },
  {
   "cell_type": "markdown",
   "id": "ranking-framework",
   "metadata": {},
   "source": [
    "**Ground Truth**"
   ]
  },
  {
   "cell_type": "code",
   "execution_count": 2,
   "id": "homeless-devices",
   "metadata": {},
   "outputs": [
    {
     "name": "stdout",
     "output_type": "stream",
     "text": [
      "df_truth.shape: (598, 3)\n"
     ]
    },
    {
     "data": {
      "text/html": [
       "<div>\n",
       "<style scoped>\n",
       "    .dataframe tbody tr th:only-of-type {\n",
       "        vertical-align: middle;\n",
       "    }\n",
       "\n",
       "    .dataframe tbody tr th {\n",
       "        vertical-align: top;\n",
       "    }\n",
       "\n",
       "    .dataframe thead th {\n",
       "        text-align: right;\n",
       "    }\n",
       "</style>\n",
       "<table border=\"1\" class=\"dataframe\">\n",
       "  <thead>\n",
       "    <tr style=\"text-align: right;\">\n",
       "      <th></th>\n",
       "      <th>0</th>\n",
       "      <th>1</th>\n",
       "      <th>2</th>\n",
       "    </tr>\n",
       "  </thead>\n",
       "  <tbody>\n",
       "    <tr>\n",
       "      <th>0</th>\n",
       "      <td>7012</td>\n",
       "      <td>1050</td>\n",
       "      <td>0</td>\n",
       "    </tr>\n",
       "    <tr>\n",
       "      <th>1</th>\n",
       "      <td>46</td>\n",
       "      <td>20</td>\n",
       "      <td>0</td>\n",
       "    </tr>\n",
       "    <tr>\n",
       "      <th>2</th>\n",
       "      <td>26</td>\n",
       "      <td>72</td>\n",
       "      <td>0</td>\n",
       "    </tr>\n",
       "  </tbody>\n",
       "</table>\n",
       "</div>"
      ],
      "text/plain": [
       "      0     1  2\n",
       "0  7012  1050  0\n",
       "1    46    20  0\n",
       "2    26    72  0"
      ]
     },
     "execution_count": 2,
     "metadata": {},
     "output_type": "execute_result"
    }
   ],
   "source": [
    "df_truth = pd.read_csv('labeled_sameMovie_truth.txt', sep='\\t', header=None)\n",
    "print(f'df_truth.shape: {df_truth.shape}')\n",
    "df_truth.head(3)"
   ]
  },
  {
   "cell_type": "code",
   "execution_count": 3,
   "id": "perfect-sweet",
   "metadata": {},
   "outputs": [
    {
     "name": "stderr",
     "output_type": "stream",
     "text": [
      "100%|██████████████████████████████████████████████████████████████████████████████| 598/598 [00:00<00:00, 7571.79it/s]\n"
     ]
    },
    {
     "data": {
      "text/plain": [
       "598"
      ]
     },
     "execution_count": 3,
     "metadata": {},
     "output_type": "execute_result"
    }
   ],
   "source": [
    "# Convert to a dict with double index\n",
    "dict_truth = {}\n",
    "for idx, (idx_a, idx_b, truth) in tqdm(df_truth.iterrows(), total=df_truth.shape[0]):\n",
    "    dict_truth[(int(idx_a), int(idx_b))] = int(truth)\n",
    "len(dict_truth)"
   ]
  },
  {
   "cell_type": "code",
   "execution_count": 4,
   "id": "wrong-sussex",
   "metadata": {},
   "outputs": [
    {
     "name": "stderr",
     "output_type": "stream",
     "text": [
      "100%|██████████████████████████████████████████████████████████████████████████████| 598/598 [00:00<00:00, 9646.01it/s]\n"
     ]
    },
    {
     "data": {
      "text/plain": [
       "598"
      ]
     },
     "execution_count": 4,
     "metadata": {},
     "output_type": "execute_result"
    }
   ],
   "source": [
    "dict_truth_inverse = {0:[], 1:[]}\n",
    "for idx, (idx_a, idx_b, truth) in tqdm(df_truth.iterrows(), total=df_truth.shape[0]):\n",
    "    if truth >= 0.5:\n",
    "        dict_truth_inverse[1].append((int(idx_a), int(idx_b)))\n",
    "    else:\n",
    "        dict_truth_inverse[0].append((int(idx_a), int(idx_b)))\n",
    "len(dict_truth_inverse[0]) + len(dict_truth_inverse[1])"
   ]
  },
  {
   "cell_type": "markdown",
   "id": "cultural-genesis",
   "metadata": {},
   "source": [
    "**Predictions**"
   ]
  },
  {
   "cell_type": "code",
   "execution_count": 5,
   "id": "combined-vector",
   "metadata": {},
   "outputs": [
    {
     "name": "stdout",
     "output_type": "stream",
     "text": [
      "df_pred.shape: (109876, 3)\n"
     ]
    },
    {
     "data": {
      "text/html": [
       "<div>\n",
       "<style scoped>\n",
       "    .dataframe tbody tr th:only-of-type {\n",
       "        vertical-align: middle;\n",
       "    }\n",
       "\n",
       "    .dataframe tbody tr th {\n",
       "        vertical-align: top;\n",
       "    }\n",
       "\n",
       "    .dataframe thead th {\n",
       "        text-align: right;\n",
       "    }\n",
       "</style>\n",
       "<table border=\"1\" class=\"dataframe\">\n",
       "  <thead>\n",
       "    <tr style=\"text-align: right;\">\n",
       "      <th></th>\n",
       "      <th>0</th>\n",
       "      <th>1</th>\n",
       "      <th>2</th>\n",
       "    </tr>\n",
       "  </thead>\n",
       "  <tbody>\n",
       "    <tr>\n",
       "      <th>0</th>\n",
       "      <td>103</td>\n",
       "      <td>1115</td>\n",
       "      <td>0.009894</td>\n",
       "    </tr>\n",
       "    <tr>\n",
       "      <th>1</th>\n",
       "      <td>13</td>\n",
       "      <td>4453</td>\n",
       "      <td>0.000428</td>\n",
       "    </tr>\n",
       "    <tr>\n",
       "      <th>2</th>\n",
       "      <td>79</td>\n",
       "      <td>2012</td>\n",
       "      <td>0.001250</td>\n",
       "    </tr>\n",
       "  </tbody>\n",
       "</table>\n",
       "</div>"
      ],
      "text/plain": [
       "     0     1         2\n",
       "0  103  1115  0.009894\n",
       "1   13  4453  0.000428\n",
       "2   79  2012  0.001250"
      ]
     },
     "execution_count": 5,
     "metadata": {},
     "output_type": "execute_result"
    }
   ],
   "source": [
    "df_pred = pd.read_csv('./inferred-predicates_hw8/SAMEMOVIE.txt', sep='\\t', header=None)\n",
    "print(f'df_pred.shape: {df_pred.shape}')\n",
    "df_pred.head(3)"
   ]
  },
  {
   "cell_type": "markdown",
   "id": "promotional-mason",
   "metadata": {},
   "source": [
    "The size of the my DataFrame with predictions is smaller than that of the DataFrame with the truth because the truth DataFrame containts many true non-matches, which weren't even generated by my code as nearly all of those non-matches didn't even fall within the same block, making it impossible for me to even predict their non-matchess."
   ]
  },
  {
   "cell_type": "code",
   "execution_count": 6,
   "id": "square-mandate",
   "metadata": {},
   "outputs": [
    {
     "name": "stderr",
     "output_type": "stream",
     "text": [
      "100%|████████████████████████████████████████████████████████████████████████| 109876/109876 [00:11<00:00, 9581.69it/s]\n"
     ]
    },
    {
     "data": {
      "text/plain": [
       "109876"
      ]
     },
     "execution_count": 6,
     "metadata": {},
     "output_type": "execute_result"
    }
   ],
   "source": [
    "# Convert to a dict with double index\n",
    "dict_pred = {}\n",
    "for idx, (idx_a, idx_b, call) in tqdm(df_pred.iterrows(), total=df_pred.shape[0]):\n",
    "    dict_pred[(int(idx_a), int(idx_b))] = 1 if call >= 0.5 else 0\n",
    "len(dict_pred)"
   ]
  },
  {
   "cell_type": "code",
   "execution_count": 7,
   "id": "chronic-induction",
   "metadata": {},
   "outputs": [
    {
     "name": "stderr",
     "output_type": "stream",
     "text": [
      "100%|████████████████████████████████████████████████████████████████████████| 109876/109876 [00:11<00:00, 9952.73it/s]\n"
     ]
    },
    {
     "data": {
      "text/plain": [
       "109876"
      ]
     },
     "execution_count": 7,
     "metadata": {},
     "output_type": "execute_result"
    }
   ],
   "source": [
    "dict_pred_inverse = {0:[], 1:[]}\n",
    "for idx, (idx_a, idx_b, call) in tqdm(df_pred.iterrows(), total=df_pred.shape[0]):\n",
    "    if call >= 0.5:\n",
    "        dict_pred_inverse[1].append((int(idx_a), int(idx_b)))\n",
    "    else:\n",
    "        dict_pred_inverse[0].append((int(idx_a), int(idx_b)))\n",
    "len(dict_pred_inverse[0]) + len(dict_pred_inverse[1])"
   ]
  },
  {
   "cell_type": "markdown",
   "id": "processed-steering",
   "metadata": {},
   "source": [
    "### Precision\n",
    "\n",
    "\"Of all calls I made, how many were correctly made\""
   ]
  },
  {
   "cell_type": "code",
   "execution_count": 8,
   "id": "nervous-canyon",
   "metadata": {},
   "outputs": [
    {
     "name": "stdout",
     "output_type": "stream",
     "text": [
      "TP:  173\n",
      "FP:    2\n",
      "Precision: 0.98857\n"
     ]
    }
   ],
   "source": [
    "TP = 0\n",
    "FP = 0\n",
    "\n",
    "# dict_pred_inverse[1] = all the calls I made\n",
    "for match in dict_pred_inverse[1]:\n",
    "    # Consider only the samples in the labeled dataset\n",
    "    if match in dict_truth.keys():\n",
    "        if dict_truth.get(match) == 1:\n",
    "            TP += 1\n",
    "        else:\n",
    "            FP += 1\n",
    "        \n",
    "precision = TP / (TP + FP)\n",
    "\n",
    "print(f'TP: {TP:>4}')\n",
    "print(f'FP: {FP:>4}')\n",
    "print(f'Precision: {precision:.5f}')"
   ]
  },
  {
   "cell_type": "markdown",
   "id": "hindu-accounting",
   "metadata": {},
   "source": [
    "### Recall\n",
    "\n",
    "\"Of all calls I should have made, how many did I make?\""
   ]
  },
  {
   "cell_type": "code",
   "execution_count": 9,
   "id": "studied-things",
   "metadata": {},
   "outputs": [
    {
     "name": "stdout",
     "output_type": "stream",
     "text": [
      "TP:  173\n",
      "FN:   16\n",
      "Recall: 0.91534\n"
     ]
    }
   ],
   "source": [
    "TP = 0\n",
    "FN = 0\n",
    "\n",
    "# dict_truth_inverse[1] = all the calls I should have made\n",
    "for match in dict_truth_inverse[1]: \n",
    "    if dict_pred.get(match) == 1:\n",
    "        TP += 1\n",
    "    else:\n",
    "        FN += 1\n",
    "        \n",
    "recall = TP / (TP + FN)\n",
    "\n",
    "print(f'TP: {TP:>4}')\n",
    "print(f'FN: {FN:>4}')\n",
    "print(f'Recall: {recall:.5f}')"
   ]
  },
  {
   "cell_type": "markdown",
   "id": "broad-brown",
   "metadata": {},
   "source": [
    "### F1-Score"
   ]
  },
  {
   "cell_type": "code",
   "execution_count": 10,
   "id": "ideal-explanation",
   "metadata": {},
   "outputs": [
    {
     "name": "stdout",
     "output_type": "stream",
     "text": [
      "F1 Score: 0.95055\n"
     ]
    }
   ],
   "source": [
    "F1 = (2 * precision * recall) / (precision + recall)\n",
    "print(f'F1 Score: {F1:.5f}')"
   ]
  },
  {
   "cell_type": "markdown",
   "id": "comic-fourth",
   "metadata": {},
   "source": [
    "Matheus Schmitz\n",
    "\n",
    "USC ID: 5039286453"
   ]
  }
 ],
 "metadata": {
  "kernelspec": {
   "display_name": "Python 3",
   "language": "python",
   "name": "python3"
  },
  "language_info": {
   "codemirror_mode": {
    "name": "ipython",
    "version": 3
   },
   "file_extension": ".py",
   "mimetype": "text/x-python",
   "name": "python",
   "nbconvert_exporter": "python",
   "pygments_lexer": "ipython3",
   "version": "3.7.9"
  }
 },
 "nbformat": 4,
 "nbformat_minor": 5
}
