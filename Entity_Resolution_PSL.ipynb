{
 "cells": [
  {
   "cell_type": "markdown",
   "id": "suspected-coordination",
   "metadata": {},
   "source": [
    "# Entity Resolution with Probabilistic Soft Logic (PSL)"
   ]
  },
  {
   "cell_type": "markdown",
   "id": "emerging-diagnosis",
   "metadata": {},
   "source": [
    "Matheus Schmitz  \n",
    "<a href=\"https://www.linkedin.com/in/matheusschmitz/\">LinkedIn</a>  \n",
    "<a href=\"https://matheus-schmitz.github.io/\">Github Portfolio</a>  "
   ]
  },
  {
   "cell_type": "markdown",
   "id": "close-headquarters",
   "metadata": {},
   "source": [
    "## 1. Merge Both Sources Into a Single Dataset with All Movies/Directors"
   ]
  },
  {
   "cell_type": "code",
   "execution_count": 15,
   "id": "decreased-highlight",
   "metadata": {},
   "outputs": [],
   "source": [
    "import pandas as pd\n",
    "from tqdm import tqdm"
   ]
  },
  {
   "cell_type": "code",
   "execution_count": 2,
   "id": "improving-rocket",
   "metadata": {},
   "outputs": [
    {
     "name": "stdout",
     "output_type": "stream",
     "text": [
      "imdb.shape: (6407, 13)\n"
     ]
    },
    {
     "data": {
      "text/html": [
       "<div>\n",
       "<style scoped>\n",
       "    .dataframe tbody tr th:only-of-type {\n",
       "        vertical-align: middle;\n",
       "    }\n",
       "\n",
       "    .dataframe tbody tr th {\n",
       "        vertical-align: top;\n",
       "    }\n",
       "\n",
       "    .dataframe thead th {\n",
       "        text-align: right;\n",
       "    }\n",
       "</style>\n",
       "<table border=\"1\" class=\"dataframe\">\n",
       "  <thead>\n",
       "    <tr style=\"text-align: right;\">\n",
       "      <th></th>\n",
       "      <th>Name</th>\n",
       "      <th>Director</th>\n",
       "    </tr>\n",
       "  </thead>\n",
       "  <tbody>\n",
       "    <tr>\n",
       "      <th>6404</th>\n",
       "      <td>The Runner</td>\n",
       "      <td>Austin Stark</td>\n",
       "    </tr>\n",
       "    <tr>\n",
       "      <th>6405</th>\n",
       "      <td>Free Radicals: A History of Experimental Film</td>\n",
       "      <td>Pip Chodorov</td>\n",
       "    </tr>\n",
       "    <tr>\n",
       "      <th>6406</th>\n",
       "      <td>Experimenter</td>\n",
       "      <td>Michael Almereyda</td>\n",
       "    </tr>\n",
       "  </tbody>\n",
       "</table>\n",
       "</div>"
      ],
      "text/plain": [
       "                                               Name           Director\n",
       "6404                                     The Runner       Austin Stark\n",
       "6405  Free Radicals: A History of Experimental Film       Pip Chodorov\n",
       "6406                                   Experimenter  Michael Almereyda"
      ]
     },
     "execution_count": 2,
     "metadata": {},
     "output_type": "execute_result"
    }
   ],
   "source": [
    "imdb = pd.read_csv('./movies1/csv_files/imdb.csv').drop_duplicates()\n",
    "print(f'imdb.shape: {imdb.shape}')\n",
    "imdb[['Name', 'Director']].tail(3)"
   ]
  },
  {
   "cell_type": "code",
   "execution_count": 3,
   "id": "civilian-stanford",
   "metadata": {},
   "outputs": [
    {
     "name": "stdout",
     "output_type": "stream",
     "text": [
      "rotten.shape: (7390, 17)\n"
     ]
    },
    {
     "data": {
      "text/html": [
       "<div>\n",
       "<style scoped>\n",
       "    .dataframe tbody tr th:only-of-type {\n",
       "        vertical-align: middle;\n",
       "    }\n",
       "\n",
       "    .dataframe tbody tr th {\n",
       "        vertical-align: top;\n",
       "    }\n",
       "\n",
       "    .dataframe thead th {\n",
       "        text-align: right;\n",
       "    }\n",
       "</style>\n",
       "<table border=\"1\" class=\"dataframe\">\n",
       "  <thead>\n",
       "    <tr style=\"text-align: right;\">\n",
       "      <th></th>\n",
       "      <th>Name</th>\n",
       "      <th>Director</th>\n",
       "    </tr>\n",
       "  </thead>\n",
       "  <tbody>\n",
       "    <tr>\n",
       "      <th>7387</th>\n",
       "      <td>99 Homes</td>\n",
       "      <td>Ramin Bahrani</td>\n",
       "    </tr>\n",
       "    <tr>\n",
       "      <th>7388</th>\n",
       "      <td>Experimenter</td>\n",
       "      <td>Michael Almereyda</td>\n",
       "    </tr>\n",
       "    <tr>\n",
       "      <th>7389</th>\n",
       "      <td>The Gift</td>\n",
       "      <td>Joel Edgerton</td>\n",
       "    </tr>\n",
       "  </tbody>\n",
       "</table>\n",
       "</div>"
      ],
      "text/plain": [
       "              Name           Director\n",
       "7387      99 Homes      Ramin Bahrani\n",
       "7388  Experimenter  Michael Almereyda\n",
       "7389      The Gift      Joel Edgerton"
      ]
     },
     "execution_count": 3,
     "metadata": {},
     "output_type": "execute_result"
    }
   ],
   "source": [
    "rotten = pd.read_csv('./movies1/csv_files/rotten_tomatoes.csv').drop_duplicates()\n",
    "print(f'rotten.shape: {rotten.shape}')\n",
    "rotten[['Name', 'Director']].tail(3)"
   ]
  },
  {
   "cell_type": "code",
   "execution_count": 4,
   "id": "understood-filter",
   "metadata": {},
   "outputs": [
    {
     "name": "stdout",
     "output_type": "stream",
     "text": [
      "all_entries_df.shape: (10946, 2)\n"
     ]
    },
    {
     "data": {
      "text/html": [
       "<div>\n",
       "<style scoped>\n",
       "    .dataframe tbody tr th:only-of-type {\n",
       "        vertical-align: middle;\n",
       "    }\n",
       "\n",
       "    .dataframe tbody tr th {\n",
       "        vertical-align: top;\n",
       "    }\n",
       "\n",
       "    .dataframe thead th {\n",
       "        text-align: right;\n",
       "    }\n",
       "</style>\n",
       "<table border=\"1\" class=\"dataframe\">\n",
       "  <thead>\n",
       "    <tr style=\"text-align: right;\">\n",
       "      <th></th>\n",
       "      <th>Name</th>\n",
       "      <th>Director</th>\n",
       "    </tr>\n",
       "  </thead>\n",
       "  <tbody>\n",
       "    <tr>\n",
       "      <th>13790</th>\n",
       "      <td>Great Directors</td>\n",
       "      <td>Angela Ismailos</td>\n",
       "    </tr>\n",
       "    <tr>\n",
       "      <th>13791</th>\n",
       "      <td>Still Screaming: The Ultimate Scary Movie Retr...</td>\n",
       "      <td>Ryan Turek</td>\n",
       "    </tr>\n",
       "    <tr>\n",
       "      <th>13793</th>\n",
       "      <td>Adjust Your Tracking</td>\n",
       "      <td>Dan M. Kinem,Levi Peretic</td>\n",
       "    </tr>\n",
       "  </tbody>\n",
       "</table>\n",
       "</div>"
      ],
      "text/plain": [
       "                                                    Name  \\\n",
       "13790                                    Great Directors   \n",
       "13791  Still Screaming: The Ultimate Scary Movie Retr...   \n",
       "13793                               Adjust Your Tracking   \n",
       "\n",
       "                        Director  \n",
       "13790            Angela Ismailos  \n",
       "13791                 Ryan Turek  \n",
       "13793  Dan M. Kinem,Levi Peretic  "
      ]
     },
     "execution_count": 4,
     "metadata": {},
     "output_type": "execute_result"
    }
   ],
   "source": [
    "all_entries_df = pd.concat([imdb[['Name', 'Director']], rotten[['Name', 'Director']]], ignore_index=True).drop_duplicates()\n",
    "print(f'all_entries_df.shape: {all_entries_df.shape}')\n",
    "all_entries_df.tail(3)"
   ]
  },
  {
   "cell_type": "markdown",
   "id": "violent-teddy",
   "metadata": {},
   "source": [
    "## 2. Break Entries With Multiple Directors per Movie into Multiple Entries with One Director per Movie"
   ]
  },
  {
   "cell_type": "markdown",
   "id": "fluid-dialogue",
   "metadata": {},
   "source": [
    "Reusing dataframe manipulation code from a previous project: https://matheus-schmitz.github.io/TED_Talks_Data_Analysis/"
   ]
  },
  {
   "cell_type": "code",
   "execution_count": 5,
   "id": "concrete-gender",
   "metadata": {},
   "outputs": [
    {
     "name": "stdout",
     "output_type": "stream",
     "text": [
      "movie_directors_df.shape: (10946, 33)\n"
     ]
    },
    {
     "data": {
      "text/html": [
       "<div>\n",
       "<style scoped>\n",
       "    .dataframe tbody tr th:only-of-type {\n",
       "        vertical-align: middle;\n",
       "    }\n",
       "\n",
       "    .dataframe tbody tr th {\n",
       "        vertical-align: top;\n",
       "    }\n",
       "\n",
       "    .dataframe thead th {\n",
       "        text-align: right;\n",
       "    }\n",
       "</style>\n",
       "<table border=\"1\" class=\"dataframe\">\n",
       "  <thead>\n",
       "    <tr style=\"text-align: right;\">\n",
       "      <th></th>\n",
       "      <th>Name</th>\n",
       "      <th>0</th>\n",
       "      <th>1</th>\n",
       "      <th>2</th>\n",
       "      <th>3</th>\n",
       "      <th>4</th>\n",
       "      <th>5</th>\n",
       "      <th>6</th>\n",
       "      <th>7</th>\n",
       "      <th>8</th>\n",
       "      <th>...</th>\n",
       "      <th>22</th>\n",
       "      <th>23</th>\n",
       "      <th>24</th>\n",
       "      <th>25</th>\n",
       "      <th>26</th>\n",
       "      <th>27</th>\n",
       "      <th>28</th>\n",
       "      <th>29</th>\n",
       "      <th>30</th>\n",
       "      <th>31</th>\n",
       "    </tr>\n",
       "  </thead>\n",
       "  <tbody>\n",
       "    <tr>\n",
       "      <th>13790</th>\n",
       "      <td>Great Directors</td>\n",
       "      <td>Angela Ismailos</td>\n",
       "      <td>None</td>\n",
       "      <td>None</td>\n",
       "      <td>None</td>\n",
       "      <td>None</td>\n",
       "      <td>None</td>\n",
       "      <td>None</td>\n",
       "      <td>None</td>\n",
       "      <td>None</td>\n",
       "      <td>...</td>\n",
       "      <td>None</td>\n",
       "      <td>None</td>\n",
       "      <td>None</td>\n",
       "      <td>None</td>\n",
       "      <td>None</td>\n",
       "      <td>None</td>\n",
       "      <td>None</td>\n",
       "      <td>None</td>\n",
       "      <td>None</td>\n",
       "      <td>None</td>\n",
       "    </tr>\n",
       "    <tr>\n",
       "      <th>13791</th>\n",
       "      <td>Still Screaming: The Ultimate Scary Movie Retr...</td>\n",
       "      <td>Ryan Turek</td>\n",
       "      <td>None</td>\n",
       "      <td>None</td>\n",
       "      <td>None</td>\n",
       "      <td>None</td>\n",
       "      <td>None</td>\n",
       "      <td>None</td>\n",
       "      <td>None</td>\n",
       "      <td>None</td>\n",
       "      <td>...</td>\n",
       "      <td>None</td>\n",
       "      <td>None</td>\n",
       "      <td>None</td>\n",
       "      <td>None</td>\n",
       "      <td>None</td>\n",
       "      <td>None</td>\n",
       "      <td>None</td>\n",
       "      <td>None</td>\n",
       "      <td>None</td>\n",
       "      <td>None</td>\n",
       "    </tr>\n",
       "    <tr>\n",
       "      <th>13793</th>\n",
       "      <td>Adjust Your Tracking</td>\n",
       "      <td>Dan M. Kinem</td>\n",
       "      <td>Levi Peretic</td>\n",
       "      <td>None</td>\n",
       "      <td>None</td>\n",
       "      <td>None</td>\n",
       "      <td>None</td>\n",
       "      <td>None</td>\n",
       "      <td>None</td>\n",
       "      <td>None</td>\n",
       "      <td>...</td>\n",
       "      <td>None</td>\n",
       "      <td>None</td>\n",
       "      <td>None</td>\n",
       "      <td>None</td>\n",
       "      <td>None</td>\n",
       "      <td>None</td>\n",
       "      <td>None</td>\n",
       "      <td>None</td>\n",
       "      <td>None</td>\n",
       "      <td>None</td>\n",
       "    </tr>\n",
       "  </tbody>\n",
       "</table>\n",
       "<p>3 rows × 33 columns</p>\n",
       "</div>"
      ],
      "text/plain": [
       "                                                    Name                0  \\\n",
       "13790                                    Great Directors  Angela Ismailos   \n",
       "13791  Still Screaming: The Ultimate Scary Movie Retr...       Ryan Turek   \n",
       "13793                               Adjust Your Tracking     Dan M. Kinem   \n",
       "\n",
       "                  1     2     3     4     5     6     7     8  ...    22  \\\n",
       "13790          None  None  None  None  None  None  None  None  ...  None   \n",
       "13791          None  None  None  None  None  None  None  None  ...  None   \n",
       "13793  Levi Peretic  None  None  None  None  None  None  None  ...  None   \n",
       "\n",
       "         23    24    25    26    27    28    29    30    31  \n",
       "13790  None  None  None  None  None  None  None  None  None  \n",
       "13791  None  None  None  None  None  None  None  None  None  \n",
       "13793  None  None  None  None  None  None  None  None  None  \n",
       "\n",
       "[3 rows x 33 columns]"
      ]
     },
     "execution_count": 5,
     "metadata": {},
     "output_type": "execute_result"
    }
   ],
   "source": [
    "# As of now, for the same Movie the Directors column has multiple director names separated by commas\n",
    "# Generate multiple columns, each containing at most one director name for a given movie\n",
    "movie_directors_df = pd.concat([all_entries_df[['Name']], all_entries_df['Director'].str.split(',', expand=True)], axis=1).drop_duplicates()\n",
    "print(f'movie_directors_df.shape: {movie_directors_df.shape}')\n",
    "movie_directors_df.tail(3)"
   ]
  },
  {
   "cell_type": "code",
   "execution_count": 6,
   "id": "leading-click",
   "metadata": {},
   "outputs": [
    {
     "name": "stdout",
     "output_type": "stream",
     "text": [
      "df_melted.shape: (300074, 3)\n"
     ]
    },
    {
     "data": {
      "text/html": [
       "<div>\n",
       "<style scoped>\n",
       "    .dataframe tbody tr th:only-of-type {\n",
       "        vertical-align: middle;\n",
       "    }\n",
       "\n",
       "    .dataframe tbody tr th {\n",
       "        vertical-align: top;\n",
       "    }\n",
       "\n",
       "    .dataframe thead th {\n",
       "        text-align: right;\n",
       "    }\n",
       "</style>\n",
       "<table border=\"1\" class=\"dataframe\">\n",
       "  <thead>\n",
       "    <tr style=\"text-align: right;\">\n",
       "      <th></th>\n",
       "      <th>Name</th>\n",
       "      <th>variable</th>\n",
       "      <th>value</th>\n",
       "    </tr>\n",
       "  </thead>\n",
       "  <tbody>\n",
       "    <tr>\n",
       "      <th>0</th>\n",
       "      <td>City of Missing Girls</td>\n",
       "      <td>0</td>\n",
       "      <td>Elmer Clifton</td>\n",
       "    </tr>\n",
       "    <tr>\n",
       "      <th>1</th>\n",
       "      <td>The Gay Divorcee</td>\n",
       "      <td>0</td>\n",
       "      <td>Mark Sandrich</td>\n",
       "    </tr>\n",
       "    <tr>\n",
       "      <th>2</th>\n",
       "      <td>The Divorcée</td>\n",
       "      <td>0</td>\n",
       "      <td>Robert Z. Leonard</td>\n",
       "    </tr>\n",
       "    <tr>\n",
       "      <th>3</th>\n",
       "      <td>Hells Angels on Wheels</td>\n",
       "      <td>0</td>\n",
       "      <td>Richard Rush</td>\n",
       "    </tr>\n",
       "    <tr>\n",
       "      <th>4</th>\n",
       "      <td>The Miracle Woman</td>\n",
       "      <td>0</td>\n",
       "      <td>Ketan Mehta</td>\n",
       "    </tr>\n",
       "    <tr>\n",
       "      <th>...</th>\n",
       "      <td>...</td>\n",
       "      <td>...</td>\n",
       "      <td>...</td>\n",
       "    </tr>\n",
       "    <tr>\n",
       "      <th>350267</th>\n",
       "      <td>Girl 27</td>\n",
       "      <td>31</td>\n",
       "      <td>None</td>\n",
       "    </tr>\n",
       "    <tr>\n",
       "      <th>350268</th>\n",
       "      <td>American Grindhouse</td>\n",
       "      <td>31</td>\n",
       "      <td>None</td>\n",
       "    </tr>\n",
       "    <tr>\n",
       "      <th>350269</th>\n",
       "      <td>Great Directors</td>\n",
       "      <td>31</td>\n",
       "      <td>None</td>\n",
       "    </tr>\n",
       "    <tr>\n",
       "      <th>350270</th>\n",
       "      <td>Still Screaming: The Ultimate Scary Movie Retr...</td>\n",
       "      <td>31</td>\n",
       "      <td>None</td>\n",
       "    </tr>\n",
       "    <tr>\n",
       "      <th>350271</th>\n",
       "      <td>Adjust Your Tracking</td>\n",
       "      <td>31</td>\n",
       "      <td>None</td>\n",
       "    </tr>\n",
       "  </tbody>\n",
       "</table>\n",
       "<p>300074 rows × 3 columns</p>\n",
       "</div>"
      ],
      "text/plain": [
       "                                                     Name variable  \\\n",
       "0                                   City of Missing Girls        0   \n",
       "1                                        The Gay Divorcee        0   \n",
       "2                                            The Divorcée        0   \n",
       "3                                  Hells Angels on Wheels        0   \n",
       "4                                       The Miracle Woman        0   \n",
       "...                                                   ...      ...   \n",
       "350267                                            Girl 27       31   \n",
       "350268                                American Grindhouse       31   \n",
       "350269                                    Great Directors       31   \n",
       "350270  Still Screaming: The Ultimate Scary Movie Retr...       31   \n",
       "350271                               Adjust Your Tracking       31   \n",
       "\n",
       "                    value  \n",
       "0           Elmer Clifton  \n",
       "1           Mark Sandrich  \n",
       "2       Robert Z. Leonard  \n",
       "3            Richard Rush  \n",
       "4             Ketan Mehta  \n",
       "...                   ...  \n",
       "350267               None  \n",
       "350268               None  \n",
       "350269               None  \n",
       "350270               None  \n",
       "350271               None  \n",
       "\n",
       "[300074 rows x 3 columns]"
      ]
     },
     "execution_count": 6,
     "metadata": {},
     "output_type": "execute_result"
    }
   ],
   "source": [
    "# Turn the data back into having a single column for Diretors, now with repeating rows for movies with more than one director\n",
    "df_melted = movie_directors_df.melt(id_vars='Name').drop_duplicates()\n",
    "print(f'df_melted.shape: {df_melted.shape}')\n",
    "df_melted"
   ]
  },
  {
   "cell_type": "code",
   "execution_count": 7,
   "id": "internal-champion",
   "metadata": {},
   "outputs": [
    {
     "name": "stdout",
     "output_type": "stream",
     "text": [
      "df_drops.shape: (13125, 2)\n"
     ]
    },
    {
     "data": {
      "text/html": [
       "<div>\n",
       "<style scoped>\n",
       "    .dataframe tbody tr th:only-of-type {\n",
       "        vertical-align: middle;\n",
       "    }\n",
       "\n",
       "    .dataframe tbody tr th {\n",
       "        vertical-align: top;\n",
       "    }\n",
       "\n",
       "    .dataframe thead th {\n",
       "        text-align: right;\n",
       "    }\n",
       "</style>\n",
       "<table border=\"1\" class=\"dataframe\">\n",
       "  <thead>\n",
       "    <tr style=\"text-align: right;\">\n",
       "      <th></th>\n",
       "      <th>Movie</th>\n",
       "      <th>Director</th>\n",
       "    </tr>\n",
       "  </thead>\n",
       "  <tbody>\n",
       "    <tr>\n",
       "      <th>13650</th>\n",
       "      <td>The ABCs of Death</td>\n",
       "      <td>Simon Barrette</td>\n",
       "    </tr>\n",
       "    <tr>\n",
       "      <th>13651</th>\n",
       "      <td>ABCs of Death 2</td>\n",
       "      <td>Vincenzo Natali</td>\n",
       "    </tr>\n",
       "    <tr>\n",
       "      <th>13652</th>\n",
       "      <td>The ABCs of Death</td>\n",
       "      <td>Simon Barrett</td>\n",
       "    </tr>\n",
       "  </tbody>\n",
       "</table>\n",
       "</div>"
      ],
      "text/plain": [
       "                   Movie         Director\n",
       "13650  The ABCs of Death   Simon Barrette\n",
       "13651    ABCs of Death 2  Vincenzo Natali\n",
       "13652  The ABCs of Death    Simon Barrett"
      ]
     },
     "execution_count": 7,
     "metadata": {},
     "output_type": "execute_result"
    }
   ],
   "source": [
    "# Clean the dataframe so gain it has only two columns: Movie and Director\n",
    "df_drops = df_melted.dropna(subset=['value']).copy()\n",
    "df_drops.drop(labels=['variable'], axis=1, inplace=True)\n",
    "df_drops.reset_index(inplace=True, drop=True)\n",
    "df_drops.columns = ['Movie', 'Director']\n",
    "df_drops.drop_duplicates(inplace=True)\n",
    "print(f'df_drops.shape: {df_drops.shape}')\n",
    "df_drops.tail(3)"
   ]
  },
  {
   "cell_type": "code",
   "execution_count": 8,
   "id": "stunning-sitting",
   "metadata": {},
   "outputs": [
    {
     "name": "stdout",
     "output_type": "stream",
     "text": [
      "df_drops.shape: (13125, 2)\n"
     ]
    },
    {
     "data": {
      "text/html": [
       "<div>\n",
       "<style scoped>\n",
       "    .dataframe tbody tr th:only-of-type {\n",
       "        vertical-align: middle;\n",
       "    }\n",
       "\n",
       "    .dataframe tbody tr th {\n",
       "        vertical-align: top;\n",
       "    }\n",
       "\n",
       "    .dataframe thead th {\n",
       "        text-align: right;\n",
       "    }\n",
       "</style>\n",
       "<table border=\"1\" class=\"dataframe\">\n",
       "  <thead>\n",
       "    <tr style=\"text-align: right;\">\n",
       "      <th></th>\n",
       "      <th>Movie</th>\n",
       "      <th>Director</th>\n",
       "    </tr>\n",
       "  </thead>\n",
       "  <tbody>\n",
       "    <tr>\n",
       "      <th>13650</th>\n",
       "      <td>The ABCs of Death</td>\n",
       "      <td>Simon Barrette</td>\n",
       "    </tr>\n",
       "    <tr>\n",
       "      <th>13651</th>\n",
       "      <td>ABCs of Death 2</td>\n",
       "      <td>Vincenzo Natali</td>\n",
       "    </tr>\n",
       "    <tr>\n",
       "      <th>13652</th>\n",
       "      <td>The ABCs of Death</td>\n",
       "      <td>Simon Barrett</td>\n",
       "    </tr>\n",
       "  </tbody>\n",
       "</table>\n",
       "</div>"
      ],
      "text/plain": [
       "                   Movie         Director\n",
       "13650  The ABCs of Death   Simon Barrette\n",
       "13651    ABCs of Death 2  Vincenzo Natali\n",
       "13652  The ABCs of Death    Simon Barrett"
      ]
     },
     "execution_count": 8,
     "metadata": {},
     "output_type": "execute_result"
    }
   ],
   "source": [
    "# Strip extra whitespaces from names as that was causing errors down the line\n",
    "df_drops = df_drops.apply(lambda s: s.str.strip())\n",
    "print(f'df_drops.shape: {df_drops.shape}')\n",
    "df_drops.tail(3)"
   ]
  },
  {
   "cell_type": "markdown",
   "id": "fantastic-union",
   "metadata": {},
   "source": [
    "## 3. Generate Unique IDs"
   ]
  },
  {
   "cell_type": "code",
   "execution_count": 9,
   "id": "toxic-canadian",
   "metadata": {},
   "outputs": [
    {
     "name": "stdout",
     "output_type": "stream",
     "text": [
      "df_movies.shape: (9283,)\n"
     ]
    },
    {
     "data": {
      "text/plain": [
       "10704                                      Great Directors\n",
       "10705    Still Screaming: The Ultimate Scary Movie Retr...\n",
       "10706                                 Adjust Your Tracking\n",
       "Name: Movie, dtype: object"
      ]
     },
     "execution_count": 9,
     "metadata": {},
     "output_type": "execute_result"
    }
   ],
   "source": [
    "# Get all unique Movie names\n",
    "df_movies = df_drops['Movie'].copy()\n",
    "df_movies.drop_duplicates(inplace=True)\n",
    "print(f'df_movies.shape: {df_movies.shape}')\n",
    "df_movies.tail(3)"
   ]
  },
  {
   "cell_type": "code",
   "execution_count": 10,
   "id": "vietnamese-edinburgh",
   "metadata": {},
   "outputs": [],
   "source": [
    "# Generate IDs for movies\n",
    "ID_to_movie = {}\n",
    "movie_to_ID = {}\n",
    "for idx, item in df_movies.iteritems():\n",
    "    ID_to_movie[idx] = item\n",
    "    movie_to_ID[item] = idx"
   ]
  },
  {
   "cell_type": "code",
   "execution_count": 11,
   "id": "severe-uganda",
   "metadata": {},
   "outputs": [
    {
     "name": "stdout",
     "output_type": "stream",
     "text": [
      "df_directors.shape: (7122,)\n"
     ]
    },
    {
     "data": {
      "text/plain": [
       "13649         Todd Rohal\n",
       "13650     Simon Barrette\n",
       "13651    Vincenzo Natali\n",
       "Name: Director, dtype: object"
      ]
     },
     "execution_count": 11,
     "metadata": {},
     "output_type": "execute_result"
    }
   ],
   "source": [
    "# Get all unique Director names\n",
    "df_directors = df_drops['Director'].copy()\n",
    "df_directors.drop_duplicates(inplace=True)\n",
    "print(f'df_directors.shape: {df_directors.shape}')\n",
    "df_directors.tail(3)"
   ]
  },
  {
   "cell_type": "code",
   "execution_count": 12,
   "id": "legitimate-problem",
   "metadata": {},
   "outputs": [],
   "source": [
    "# Generate IDs for directors (start at 50000 to avoid bumping into movie IDs)\n",
    "ID_to_director = {}\n",
    "director_to_ID = {}\n",
    "for idx, item in df_directors.iteritems():\n",
    "    ID_to_director[idx + 50000] = item\n",
    "    director_to_ID[item] = idx + 50000"
   ]
  },
  {
   "cell_type": "code",
   "execution_count": 13,
   "id": "graduate-procurement",
   "metadata": {},
   "outputs": [
    {
     "name": "stderr",
     "output_type": "stream",
     "text": [
      "100%|███████████████████████████████████████████████████████████████████████████| 13125/13125 [00:59<00:00, 220.32it/s]"
     ]
    },
    {
     "name": "stdout",
     "output_type": "stream",
     "text": [
      "df_ids.shape: (13125, 4)\n"
     ]
    },
    {
     "name": "stderr",
     "output_type": "stream",
     "text": [
      "\n"
     ]
    },
    {
     "data": {
      "text/html": [
       "<div>\n",
       "<style scoped>\n",
       "    .dataframe tbody tr th:only-of-type {\n",
       "        vertical-align: middle;\n",
       "    }\n",
       "\n",
       "    .dataframe tbody tr th {\n",
       "        vertical-align: top;\n",
       "    }\n",
       "\n",
       "    .dataframe thead th {\n",
       "        text-align: right;\n",
       "    }\n",
       "</style>\n",
       "<table border=\"1\" class=\"dataframe\">\n",
       "  <thead>\n",
       "    <tr style=\"text-align: right;\">\n",
       "      <th></th>\n",
       "      <th>Movie</th>\n",
       "      <th>Director</th>\n",
       "      <th>Movie_ID</th>\n",
       "      <th>Director_ID</th>\n",
       "    </tr>\n",
       "  </thead>\n",
       "  <tbody>\n",
       "    <tr>\n",
       "      <th>13122</th>\n",
       "      <td>The ABCs of Death</td>\n",
       "      <td>Simon Barrette</td>\n",
       "      <td>5538</td>\n",
       "      <td>63650</td>\n",
       "    </tr>\n",
       "    <tr>\n",
       "      <th>13123</th>\n",
       "      <td>ABCs of Death 2</td>\n",
       "      <td>Vincenzo Natali</td>\n",
       "      <td>5540</td>\n",
       "      <td>63651</td>\n",
       "    </tr>\n",
       "    <tr>\n",
       "      <th>13124</th>\n",
       "      <td>The ABCs of Death</td>\n",
       "      <td>Simon Barrett</td>\n",
       "      <td>5538</td>\n",
       "      <td>55545</td>\n",
       "    </tr>\n",
       "  </tbody>\n",
       "</table>\n",
       "</div>"
      ],
      "text/plain": [
       "                   Movie         Director Movie_ID Director_ID\n",
       "13122  The ABCs of Death   Simon Barrette     5538       63650\n",
       "13123    ABCs of Death 2  Vincenzo Natali     5540       63651\n",
       "13124  The ABCs of Death    Simon Barrett     5538       55545"
      ]
     },
     "execution_count": 13,
     "metadata": {},
     "output_type": "execute_result"
    }
   ],
   "source": [
    "# Plug the IDs back into the DataFrame with Movie/Director\n",
    "df_ids = pd.DataFrame(columns = ['Movie', 'Director', 'Movie_ID', 'Director_ID'])\n",
    "\n",
    "for idx, row in tqdm(df_drops.iterrows(), total=df_drops.shape[0]):\n",
    "\n",
    "    df_ids = df_ids.append({'Movie': row.Movie,\n",
    "                            'Director': row.Director,\n",
    "                            'Movie_ID': movie_to_ID[row.Movie],\n",
    "                            'Director_ID': director_to_ID[row.Director]},\n",
    "                           ignore_index=True)\n",
    "    \n",
    "print(f'df_ids.shape: {df_ids.shape}')\n",
    "df_ids.tail(3)    "
   ]
  },
  {
   "cell_type": "markdown",
   "id": "sustained-assist",
   "metadata": {},
   "source": [
    "## 4. Generate Blocks"
   ]
  },
  {
   "cell_type": "code",
   "execution_count": 14,
   "id": "corresponding-birthday",
   "metadata": {},
   "outputs": [],
   "source": [
    "import string"
   ]
  },
  {
   "cell_type": "code",
   "execution_count": 15,
   "id": "fundamental-journey",
   "metadata": {},
   "outputs": [],
   "source": [
    "# Function to block based on first letter of each word in the string, ignoring numbers (Ice Age x Ice Age 2 get the same block)\n",
    "# Also ignore \"The\" in the movie names, as that is often withheld from titles, which can mess with blocks\n",
    "def generate_blocks(full_name):\n",
    "    block = ''.join(sorted([s[0].upper() for s in full_name.split() if s != \"The\" and s != \"the\"]))\n",
    "    # Strip number from the block as long as it won't result in a Null block\n",
    "    if len(block.strip('0123456789')) > 0:\n",
    "        block = block.strip('0123456789')\n",
    "    return block\n",
    "\n",
    "# There are some missing values represented as \"???\" which become None if stripping all punction, which then generates errors\n",
    "def strip_punctuation_all(s):\n",
    "    return s.translate(str.maketrans('', '', string.punctuation))\n",
    "\n",
    "# Stripping just certain punctuations for text clearning\n",
    "def strip_punctuation_selective(s):\n",
    "    s = s.replace('.', ' ')\n",
    "    s = s.replace('(', ' ')\n",
    "    s = s.replace(')', ' ')\n",
    "    s = s.strip()\n",
    "    return s"
   ]
  },
  {
   "cell_type": "code",
   "execution_count": 16,
   "id": "reverse-alcohol",
   "metadata": {},
   "outputs": [
    {
     "data": {
      "text/html": [
       "<div>\n",
       "<style scoped>\n",
       "    .dataframe tbody tr th:only-of-type {\n",
       "        vertical-align: middle;\n",
       "    }\n",
       "\n",
       "    .dataframe tbody tr th {\n",
       "        vertical-align: top;\n",
       "    }\n",
       "\n",
       "    .dataframe thead th {\n",
       "        text-align: right;\n",
       "    }\n",
       "</style>\n",
       "<table border=\"1\" class=\"dataframe\">\n",
       "  <thead>\n",
       "    <tr style=\"text-align: right;\">\n",
       "      <th></th>\n",
       "      <th>Movie</th>\n",
       "      <th>Director</th>\n",
       "      <th>Movie_ID</th>\n",
       "      <th>Director_ID</th>\n",
       "      <th>DirectorBlock</th>\n",
       "      <th>MovieBlock</th>\n",
       "    </tr>\n",
       "  </thead>\n",
       "  <tbody>\n",
       "    <tr>\n",
       "      <th>13122</th>\n",
       "      <td>The ABCs of Death</td>\n",
       "      <td>Simon Barrette</td>\n",
       "      <td>5538</td>\n",
       "      <td>63650</td>\n",
       "      <td>BS</td>\n",
       "      <td>ADO</td>\n",
       "    </tr>\n",
       "    <tr>\n",
       "      <th>13123</th>\n",
       "      <td>ABCs of Death 2</td>\n",
       "      <td>Vincenzo Natali</td>\n",
       "      <td>5540</td>\n",
       "      <td>63651</td>\n",
       "      <td>NV</td>\n",
       "      <td>ADO</td>\n",
       "    </tr>\n",
       "    <tr>\n",
       "      <th>13124</th>\n",
       "      <td>The ABCs of Death</td>\n",
       "      <td>Simon Barrett</td>\n",
       "      <td>5538</td>\n",
       "      <td>55545</td>\n",
       "      <td>BS</td>\n",
       "      <td>ADO</td>\n",
       "    </tr>\n",
       "  </tbody>\n",
       "</table>\n",
       "</div>"
      ],
      "text/plain": [
       "                   Movie         Director Movie_ID Director_ID DirectorBlock  \\\n",
       "13122  The ABCs of Death   Simon Barrette     5538       63650            BS   \n",
       "13123    ABCs of Death 2  Vincenzo Natali     5540       63651            NV   \n",
       "13124  The ABCs of Death    Simon Barrett     5538       55545            BS   \n",
       "\n",
       "      MovieBlock  \n",
       "13122        ADO  \n",
       "13123        ADO  \n",
       "13124        ADO  "
      ]
     },
     "execution_count": 16,
     "metadata": {},
     "output_type": "execute_result"
    }
   ],
   "source": [
    "# For generating director blocks, ensure that names with initials are used too\n",
    "df_ids['DirectorBlock'] = df_ids['Director'].apply(strip_punctuation_selective).apply(generate_blocks)\n",
    "df_ids['MovieBlock'] = df_ids['Movie'].apply(strip_punctuation_selective).apply(generate_blocks)\n",
    "df_ids.tail(3)"
   ]
  },
  {
   "cell_type": "markdown",
   "id": "electric-weapon",
   "metadata": {},
   "source": [
    "## 5. Create Observation Files"
   ]
  },
  {
   "cell_type": "code",
   "execution_count": 17,
   "id": "following-admission",
   "metadata": {},
   "outputs": [
    {
     "name": "stdout",
     "output_type": "stream",
     "text": [
      "directorBlock_obs.shape: (7122, 2)\n"
     ]
    }
   ],
   "source": [
    "directorBlock_obs = df_ids[['Director_ID', 'DirectorBlock']].drop_duplicates()\n",
    "directorBlock_obs.to_csv('full_directorBlock_obs.txt', sep='\\t', header=False, index=False)\n",
    "print(f'directorBlock_obs.shape: {directorBlock_obs.shape}')"
   ]
  },
  {
   "cell_type": "code",
   "execution_count": 18,
   "id": "combined-walnut",
   "metadata": {},
   "outputs": [
    {
     "name": "stdout",
     "output_type": "stream",
     "text": [
      "directorName_obs.shape: (7122, 2)\n"
     ]
    }
   ],
   "source": [
    "directorName_obs = df_ids[['Director_ID', 'Director']].drop_duplicates()\n",
    "directorName_obs.to_csv('full_directorName_obs.txt', sep='\\t', header=False, index=False)\n",
    "print(f'directorName_obs.shape: {directorName_obs.shape}')"
   ]
  },
  {
   "cell_type": "code",
   "execution_count": 19,
   "id": "threatened-preference",
   "metadata": {},
   "outputs": [
    {
     "name": "stdout",
     "output_type": "stream",
     "text": [
      "directorOf_obs.shape: (13125, 2)\n"
     ]
    }
   ],
   "source": [
    "directorOf_obs = df_ids[['Director_ID', 'Movie_ID']].drop_duplicates()\n",
    "directorOf_obs.to_csv('full_directorOf_obs.txt', sep='\\t', header=False, index=False)\n",
    "print(f'directorOf_obs.shape: {directorOf_obs.shape}')"
   ]
  },
  {
   "cell_type": "code",
   "execution_count": 20,
   "id": "pursuant-liberia",
   "metadata": {},
   "outputs": [
    {
     "name": "stdout",
     "output_type": "stream",
     "text": [
      "movieBlock_obs.shape: (9283, 2)\n"
     ]
    }
   ],
   "source": [
    "movieBlock_obs = df_ids[['Movie_ID', 'MovieBlock']].drop_duplicates()\n",
    "movieBlock_obs.to_csv('full_movieBlock_obs.txt', sep='\\t', header=False, index=False)\n",
    "print(f'movieBlock_obs.shape: {movieBlock_obs.shape}')"
   ]
  },
  {
   "cell_type": "code",
   "execution_count": 21,
   "id": "hired-danish",
   "metadata": {},
   "outputs": [
    {
     "name": "stdout",
     "output_type": "stream",
     "text": [
      "movieTitle_obs.shape: (9283, 2)\n"
     ]
    }
   ],
   "source": [
    "movieTitle_obs = df_ids[['Movie_ID', 'Movie']].drop_duplicates()\n",
    "movieTitle_obs.to_csv('full_movieTitle_obs.txt', sep='\\t', header=False, index=False)\n",
    "print(f'movieTitle_obs.shape: {movieTitle_obs.shape}')"
   ]
  },
  {
   "cell_type": "markdown",
   "id": "hollywood-combination",
   "metadata": {},
   "source": [
    "## 6. Calculate String Similarities"
   ]
  },
  {
   "cell_type": "code",
   "execution_count": 22,
   "id": "planned-guatemala",
   "metadata": {},
   "outputs": [],
   "source": [
    "from strsimpy.jaro_winkler import JaroWinkler\n",
    "from strsimpy.normalized_levenshtein import NormalizedLevenshtein"
   ]
  },
  {
   "cell_type": "code",
   "execution_count": 23,
   "id": "genuine-briefs",
   "metadata": {},
   "outputs": [
    {
     "name": "stderr",
     "output_type": "stream",
     "text": [
      "100%|████████████████████████████████████████████████████████████████████████████████| 966/966 [00:22<00:00, 42.37it/s]\n"
     ]
    }
   ],
   "source": [
    "jaro_winkler = JaroWinkler().similarity\n",
    "\n",
    "with open('full_simDirector_obs.txt', 'w') as f_out:\n",
    "\n",
    "    # Iterate over blocks\n",
    "    for block in tqdm(df_ids['DirectorBlock'].unique()):\n",
    "        \n",
    "        # Then do pairwise comparison for all items on the current block\n",
    "        for left_item in df_ids[df_ids['DirectorBlock'] == block]['Director'].unique():\n",
    "            for right_item in df_ids[df_ids['DirectorBlock'] == block]['Director'].unique():\n",
    "\n",
    "                # Calculate similarity\n",
    "                similarity = jaro_winkler(left_item, right_item)\n",
    "                \n",
    "                # Get IDs\n",
    "                left_id = director_to_ID[left_item]\n",
    "                right_id = director_to_ID[right_item]\n",
    "\n",
    "                # And write to the similarities file\n",
    "                f_out.write(f'{left_id}' + '\\t' + f'{right_id}' + '\\t' + f'{similarity}' + '\\n')"
   ]
  },
  {
   "cell_type": "code",
   "execution_count": 24,
   "id": "variable-empire",
   "metadata": {},
   "outputs": [
    {
     "name": "stderr",
     "output_type": "stream",
     "text": [
      "100%|██████████████████████████████████████████████████████████████████████████████| 3609/3609 [00:42<00:00, 83.96it/s]\n"
     ]
    }
   ],
   "source": [
    "normalized_levenshtein = NormalizedLevenshtein().similarity\n",
    "\n",
    "with open('full_simMovie_obs.txt', 'w') as f_out:\n",
    "\n",
    "    # Iterate over blocks\n",
    "    for block in tqdm(df_ids['MovieBlock'].unique()):\n",
    "        \n",
    "        # Then do pairwise comparison for all items on the current block\n",
    "        for left_item in df_ids[df_ids['MovieBlock'] == block]['Movie'].unique():\n",
    "            for right_item in df_ids[df_ids['MovieBlock'] == block]['Movie'].unique():\n",
    "\n",
    "                # Calculate similarity\n",
    "                similarity = normalized_levenshtein(left_item.lower(), right_item.lower())\n",
    "                \n",
    "                # Get IDs\n",
    "                left_id = movie_to_ID[left_item]\n",
    "                right_id = movie_to_ID[right_item]\n",
    "\n",
    "                # And write to the similarities file\n",
    "                f_out.write(f'{left_id}' + '\\t' + f'{right_id}' + '\\t' + f'{similarity}' + '\\n')"
   ]
  },
  {
   "cell_type": "markdown",
   "id": "immediate-celtic",
   "metadata": {},
   "source": [
    "## 7. Generate Targets From All Candidates"
   ]
  },
  {
   "cell_type": "code",
   "execution_count": 25,
   "id": "residential-scott",
   "metadata": {},
   "outputs": [
    {
     "name": "stderr",
     "output_type": "stream",
     "text": [
      "100%|█████████████████████████████████████████████████████████████████████████████| 3609/3609 [00:21<00:00, 167.25it/s]\n"
     ]
    }
   ],
   "source": [
    "# All pairwise comparisons for each block of Movies\n",
    "with open('full_sameMovie_target.txt', 'w') as f_out:\n",
    "    \n",
    "    # Iterate over blocks\n",
    "    for block in tqdm(df_ids['MovieBlock'].unique()):\n",
    "        \n",
    "        # Then do pairwise comparison for all items on the current block\n",
    "        for left_item in df_ids[df_ids['MovieBlock'] == block]['Movie_ID'].unique():\n",
    "            for right_item in df_ids[df_ids['MovieBlock'] == block]['Movie_ID'].unique():\n",
    "\n",
    "                # And write to the similarities file\n",
    "                f_out.write(f'{left_item}' + '\\t' + f'{right_item}' + '\\n')"
   ]
  },
  {
   "cell_type": "code",
   "execution_count": 26,
   "id": "labeled-wilson",
   "metadata": {},
   "outputs": [
    {
     "name": "stderr",
     "output_type": "stream",
     "text": [
      "100%|████████████████████████████████████████████████████████████████████████████████| 966/966 [00:14<00:00, 68.64it/s]\n"
     ]
    }
   ],
   "source": [
    "# All pairwise comparisons for each block of Directors\n",
    "with open('full_sameDirector_target.txt', 'w') as f_out:\n",
    "    \n",
    "    # Iterate over blocks\n",
    "    for block in tqdm(df_ids['DirectorBlock'].unique()):\n",
    "        \n",
    "        # Then do pairwise comparison for all items on the current block\n",
    "        for left_item in df_ids[df_ids['DirectorBlock'] == block]['Director_ID'].unique():\n",
    "            for right_item in df_ids[df_ids['DirectorBlock'] == block]['Director_ID'].unique():\n",
    "\n",
    "                # And write to the similarities file\n",
    "                f_out.write(f'{left_item}' + '\\t' + f'{right_item}' + '\\n')"
   ]
  },
  {
   "cell_type": "markdown",
   "id": "opponent-grain",
   "metadata": {},
   "source": [
    "## 8. Generate Truth from Labeled Data\n",
    "\n",
    "According to the thread \"Multiple Directors\" on BlackBoard, we only need to evaluate on movies."
   ]
  },
  {
   "cell_type": "code",
   "execution_count": 27,
   "id": "empty-martin",
   "metadata": {},
   "outputs": [
    {
     "name": "stdout",
     "output_type": "stream",
     "text": [
      "labeled.shape: (600, 10)\n"
     ]
    },
    {
     "data": {
      "text/html": [
       "<div>\n",
       "<style scoped>\n",
       "    .dataframe tbody tr th:only-of-type {\n",
       "        vertical-align: middle;\n",
       "    }\n",
       "\n",
       "    .dataframe tbody tr th {\n",
       "        vertical-align: top;\n",
       "    }\n",
       "\n",
       "    .dataframe thead th {\n",
       "        text-align: right;\n",
       "    }\n",
       "</style>\n",
       "<table border=\"1\" class=\"dataframe\">\n",
       "  <thead>\n",
       "    <tr style=\"text-align: right;\">\n",
       "      <th></th>\n",
       "      <th>_id</th>\n",
       "      <th>ltable.Id</th>\n",
       "      <th>rtable.Id</th>\n",
       "      <th>ltable.Director</th>\n",
       "      <th>ltable.Name</th>\n",
       "      <th>ltable.Year</th>\n",
       "      <th>rtable.Director</th>\n",
       "      <th>rtable.Name</th>\n",
       "      <th>rtable.YearRange</th>\n",
       "      <th>gold</th>\n",
       "    </tr>\n",
       "  </thead>\n",
       "  <tbody>\n",
       "    <tr>\n",
       "      <th>597</th>\n",
       "      <td>11103</td>\n",
       "      <td>tt4562728</td>\n",
       "      <td>the_divergent_series_allegiant</td>\n",
       "      <td>Robert Schwartzman</td>\n",
       "      <td>MF</td>\n",
       "      <td>2015</td>\n",
       "      <td>Robert Schwentke</td>\n",
       "      <td>The Divergent Series: Allegiant</td>\n",
       "      <td>2015 2016 2017</td>\n",
       "      <td>0</td>\n",
       "    </tr>\n",
       "    <tr>\n",
       "      <th>598</th>\n",
       "      <td>11120</td>\n",
       "      <td>tt4795692</td>\n",
       "      <td>sisters_2015</td>\n",
       "      <td>Sean Hanish</td>\n",
       "      <td>Sister Cities</td>\n",
       "      <td>2016</td>\n",
       "      <td>Em Cooper,Jason Moore</td>\n",
       "      <td>Sisters</td>\n",
       "      <td>2014 2015 2016</td>\n",
       "      <td>0</td>\n",
       "    </tr>\n",
       "    <tr>\n",
       "      <th>599</th>\n",
       "      <td>11138</td>\n",
       "      <td>tt4984930</td>\n",
       "      <td>the_mend</td>\n",
       "      <td>Su Rynard</td>\n",
       "      <td>The Messenger</td>\n",
       "      <td>2015</td>\n",
       "      <td>John Magary</td>\n",
       "      <td>The Mend</td>\n",
       "      <td>2014 2015 2016</td>\n",
       "      <td>0</td>\n",
       "    </tr>\n",
       "  </tbody>\n",
       "</table>\n",
       "</div>"
      ],
      "text/plain": [
       "       _id  ltable.Id                       rtable.Id     ltable.Director  \\\n",
       "597  11103  tt4562728  the_divergent_series_allegiant  Robert Schwartzman   \n",
       "598  11120  tt4795692                    sisters_2015         Sean Hanish   \n",
       "599  11138  tt4984930                        the_mend           Su Rynard   \n",
       "\n",
       "       ltable.Name  ltable.Year        rtable.Director  \\\n",
       "597             MF         2015       Robert Schwentke   \n",
       "598  Sister Cities         2016  Em Cooper,Jason Moore   \n",
       "599  The Messenger         2015            John Magary   \n",
       "\n",
       "                         rtable.Name rtable.YearRange  gold  \n",
       "597  The Divergent Series: Allegiant   2015 2016 2017     0  \n",
       "598                          Sisters   2014 2015 2016     0  \n",
       "599                         The Mend   2014 2015 2016     0  "
      ]
     },
     "execution_count": 27,
     "metadata": {},
     "output_type": "execute_result"
    }
   ],
   "source": [
    "labeled = pd.read_csv('./movies1/csv_files/labeled_data.csv', skiprows=5)\n",
    "print(f'labeled.shape: {labeled.shape}')\n",
    "labeled.tail(3)"
   ]
  },
  {
   "cell_type": "code",
   "execution_count": 28,
   "id": "still-flesh",
   "metadata": {
    "scrolled": false
   },
   "outputs": [
    {
     "name": "stdout",
     "output_type": "stream",
     "text": [
      "labeled_movie.shape: (600, 3)\n"
     ]
    },
    {
     "data": {
      "text/html": [
       "<div>\n",
       "<style scoped>\n",
       "    .dataframe tbody tr th:only-of-type {\n",
       "        vertical-align: middle;\n",
       "    }\n",
       "\n",
       "    .dataframe tbody tr th {\n",
       "        vertical-align: top;\n",
       "    }\n",
       "\n",
       "    .dataframe thead th {\n",
       "        text-align: right;\n",
       "    }\n",
       "</style>\n",
       "<table border=\"1\" class=\"dataframe\">\n",
       "  <thead>\n",
       "    <tr style=\"text-align: right;\">\n",
       "      <th></th>\n",
       "      <th>ltable.Name</th>\n",
       "      <th>rtable.Name</th>\n",
       "      <th>gold</th>\n",
       "    </tr>\n",
       "  </thead>\n",
       "  <tbody>\n",
       "    <tr>\n",
       "      <th>597</th>\n",
       "      <td>MF</td>\n",
       "      <td>The Divergent Series: Allegiant</td>\n",
       "      <td>0</td>\n",
       "    </tr>\n",
       "    <tr>\n",
       "      <th>598</th>\n",
       "      <td>Sister Cities</td>\n",
       "      <td>Sisters</td>\n",
       "      <td>0</td>\n",
       "    </tr>\n",
       "    <tr>\n",
       "      <th>599</th>\n",
       "      <td>The Messenger</td>\n",
       "      <td>The Mend</td>\n",
       "      <td>0</td>\n",
       "    </tr>\n",
       "  </tbody>\n",
       "</table>\n",
       "</div>"
      ],
      "text/plain": [
       "       ltable.Name                      rtable.Name  gold\n",
       "597             MF  The Divergent Series: Allegiant     0\n",
       "598  Sister Cities                          Sisters     0\n",
       "599  The Messenger                         The Mend     0"
      ]
     },
     "execution_count": 28,
     "metadata": {},
     "output_type": "execute_result"
    }
   ],
   "source": [
    "# Get a dataframe with only the movie matchings and their gold labels\n",
    "labeled_movie = labeled[['ltable.Name', 'rtable.Name', 'gold']]\n",
    "print(f'labeled_movie.shape: {labeled_movie.shape}')\n",
    "labeled_movie.tail(3)"
   ]
  },
  {
   "cell_type": "code",
   "execution_count": 29,
   "id": "interim-humanity",
   "metadata": {},
   "outputs": [
    {
     "name": "stdout",
     "output_type": "stream",
     "text": [
      "labeled_movie_IDs.shape: (598, 3)\n"
     ]
    },
    {
     "data": {
      "text/html": [
       "<div>\n",
       "<style scoped>\n",
       "    .dataframe tbody tr th:only-of-type {\n",
       "        vertical-align: middle;\n",
       "    }\n",
       "\n",
       "    .dataframe tbody tr th {\n",
       "        vertical-align: top;\n",
       "    }\n",
       "\n",
       "    .dataframe thead th {\n",
       "        text-align: right;\n",
       "    }\n",
       "</style>\n",
       "<table border=\"1\" class=\"dataframe\">\n",
       "  <thead>\n",
       "    <tr style=\"text-align: right;\">\n",
       "      <th></th>\n",
       "      <th>l_movie_id</th>\n",
       "      <th>r_movie_id</th>\n",
       "      <th>gold</th>\n",
       "    </tr>\n",
       "  </thead>\n",
       "  <tbody>\n",
       "    <tr>\n",
       "      <th>596</th>\n",
       "      <td>7356</td>\n",
       "      <td>5865</td>\n",
       "      <td>0</td>\n",
       "    </tr>\n",
       "    <tr>\n",
       "      <th>597</th>\n",
       "      <td>8344</td>\n",
       "      <td>263</td>\n",
       "      <td>0</td>\n",
       "    </tr>\n",
       "    <tr>\n",
       "      <th>598</th>\n",
       "      <td>6158</td>\n",
       "      <td>582</td>\n",
       "      <td>0</td>\n",
       "    </tr>\n",
       "  </tbody>\n",
       "</table>\n",
       "</div>"
      ],
      "text/plain": [
       "    l_movie_id r_movie_id gold\n",
       "596       7356       5865    0\n",
       "597       8344        263    0\n",
       "598       6158        582    0"
      ]
     },
     "execution_count": 29,
     "metadata": {},
     "output_type": "execute_result"
    }
   ],
   "source": [
    "# Encode the labeled_movie DataFrame into IDs\n",
    "labeled_movie_IDs = pd.DataFrame(columns = ['l_movie_id', 'r_movie_id', 'gold'])\n",
    "\n",
    "for idx, row in labeled_movie.iterrows():\n",
    "    \n",
    "    # There is one movie \"Dj Vu\" which somehow is on the labeled dataset but not on either of the original source datasets\n",
    "    # It will generate an error, so I'm just skipping that one movie\n",
    "    try: \n",
    "        labeled_movie_IDs = labeled_movie_IDs.append({'l_movie_id': movie_to_ID[row[\"ltable.Name\"]],\n",
    "                                                      'r_movie_id': movie_to_ID[row[\"rtable.Name\"]],\n",
    "                                                      'gold': row.gold}, ignore_index=True)\n",
    "    except:\n",
    "        pass  \n",
    "\n",
    "# There is also one entry which seems to be duplicate and can cause errors later\n",
    "labeled_movie_IDs.drop_duplicates(inplace=True)\n",
    "print(f'labeled_movie_IDs.shape: {labeled_movie_IDs.shape}')\n",
    "labeled_movie_IDs.tail(3)"
   ]
  },
  {
   "cell_type": "code",
   "execution_count": 30,
   "id": "exterior-tourist",
   "metadata": {},
   "outputs": [],
   "source": [
    "# Save as a \"tab-separated .txt\" file which is what PSL requires\n",
    "\n",
    "# Truth\n",
    "labeled_movie_IDs.to_csv('labeled_sameMovie_truth.txt', sep='\\t', header=False, index=False)\n",
    "\n",
    "# Target\n",
    "labeled_movie_IDs.drop('gold', axis=1).to_csv('labeled_sameMovie_target.txt', sep='\\t', header=False, index=False)"
   ]
  },
  {
   "cell_type": "markdown",
   "id": "monetary-daniel",
   "metadata": {},
   "source": [
    "## 9. Generate Downsampled Files\n",
    "\n",
    "Using all samples in the candidate dataset was generating a file too large for my computer to handle. So one reasonable approach is to downsample the data while ensuring that all samples from the labeled dataset are present in the downsampled version. The samples outiside the labeled dataset are still important at they help the Collective KG-based ER Rules, but since using all of them proved too much, then downsampling them instead of removing them is a reasonable compromise."
   ]
  },
  {
   "cell_type": "code",
   "execution_count": 31,
   "id": "three-poetry",
   "metadata": {},
   "outputs": [
    {
     "name": "stdout",
     "output_type": "stream",
     "text": [
      "df_ids_downsampled.shape: (6562, 6)\n"
     ]
    },
    {
     "data": {
      "text/html": [
       "<div>\n",
       "<style scoped>\n",
       "    .dataframe tbody tr th:only-of-type {\n",
       "        vertical-align: middle;\n",
       "    }\n",
       "\n",
       "    .dataframe tbody tr th {\n",
       "        vertical-align: top;\n",
       "    }\n",
       "\n",
       "    .dataframe thead th {\n",
       "        text-align: right;\n",
       "    }\n",
       "</style>\n",
       "<table border=\"1\" class=\"dataframe\">\n",
       "  <thead>\n",
       "    <tr style=\"text-align: right;\">\n",
       "      <th></th>\n",
       "      <th>Movie</th>\n",
       "      <th>Director</th>\n",
       "      <th>Movie_ID</th>\n",
       "      <th>Director_ID</th>\n",
       "      <th>DirectorBlock</th>\n",
       "      <th>MovieBlock</th>\n",
       "    </tr>\n",
       "  </thead>\n",
       "  <tbody>\n",
       "    <tr>\n",
       "      <th>10126</th>\n",
       "      <td>Creative Control</td>\n",
       "      <td>Benjamin Dickinson</td>\n",
       "      <td>10126</td>\n",
       "      <td>60126</td>\n",
       "      <td>BD</td>\n",
       "      <td>CC</td>\n",
       "    </tr>\n",
       "    <tr>\n",
       "      <th>1099</th>\n",
       "      <td>The Dark Knight</td>\n",
       "      <td>Christopher Nolan</td>\n",
       "      <td>1099</td>\n",
       "      <td>51089</td>\n",
       "      <td>CN</td>\n",
       "      <td>DK</td>\n",
       "    </tr>\n",
       "    <tr>\n",
       "      <th>10772</th>\n",
       "      <td>Bambi</td>\n",
       "      <td>Graham Heid</td>\n",
       "      <td>361</td>\n",
       "      <td>60793</td>\n",
       "      <td>GH</td>\n",
       "      <td>B</td>\n",
       "    </tr>\n",
       "  </tbody>\n",
       "</table>\n",
       "</div>"
      ],
      "text/plain": [
       "                  Movie            Director Movie_ID Director_ID  \\\n",
       "10126  Creative Control  Benjamin Dickinson    10126       60126   \n",
       "1099    The Dark Knight   Christopher Nolan     1099       51089   \n",
       "10772             Bambi         Graham Heid      361       60793   \n",
       "\n",
       "      DirectorBlock MovieBlock  \n",
       "10126            BD         CC  \n",
       "1099             CN         DK  \n",
       "10772            GH          B  "
      ]
     },
     "execution_count": 31,
     "metadata": {},
     "output_type": "execute_result"
    }
   ],
   "source": [
    "# First downsample the DataFrame with all candidates\n",
    "df_ids_downsampled = df_ids.sample(frac=0.5)\n",
    "print(f'df_ids_downsampled.shape: {df_ids_downsampled.shape}')\n",
    "df_ids_downsampled.tail(3)"
   ]
  },
  {
   "cell_type": "code",
   "execution_count": 32,
   "id": "preliminary-breach",
   "metadata": {},
   "outputs": [
    {
     "name": "stderr",
     "output_type": "stream",
     "text": [
      "100%|████████████████████████████████████████████████████████████████████████████████| 598/598 [00:06<00:00, 93.15it/s]\n"
     ]
    },
    {
     "name": "stdout",
     "output_type": "stream",
     "text": [
      "df_ids_downsampled.shape: (7004, 6)\n"
     ]
    },
    {
     "data": {
      "text/html": [
       "<div>\n",
       "<style scoped>\n",
       "    .dataframe tbody tr th:only-of-type {\n",
       "        vertical-align: middle;\n",
       "    }\n",
       "\n",
       "    .dataframe tbody tr th {\n",
       "        vertical-align: top;\n",
       "    }\n",
       "\n",
       "    .dataframe thead th {\n",
       "        text-align: right;\n",
       "    }\n",
       "</style>\n",
       "<table border=\"1\" class=\"dataframe\">\n",
       "  <thead>\n",
       "    <tr style=\"text-align: right;\">\n",
       "      <th></th>\n",
       "      <th>Movie</th>\n",
       "      <th>Director</th>\n",
       "      <th>Movie_ID</th>\n",
       "      <th>Director_ID</th>\n",
       "      <th>DirectorBlock</th>\n",
       "      <th>MovieBlock</th>\n",
       "    </tr>\n",
       "  </thead>\n",
       "  <tbody>\n",
       "    <tr>\n",
       "      <th>7751</th>\n",
       "      <td>The Metropolitan Opera: Cavalleria Rusticana/p...</td>\n",
       "      <td>David McVicar</td>\n",
       "      <td>3278</td>\n",
       "      <td>53278</td>\n",
       "      <td>DM</td>\n",
       "      <td>CMOR</td>\n",
       "    </tr>\n",
       "    <tr>\n",
       "      <th>7753</th>\n",
       "      <td>The Divergent Series: Allegiant</td>\n",
       "      <td>Robert Schwentke</td>\n",
       "      <td>5865</td>\n",
       "      <td>55103</td>\n",
       "      <td>RS</td>\n",
       "      <td>ADS</td>\n",
       "    </tr>\n",
       "    <tr>\n",
       "      <th>7756</th>\n",
       "      <td>The Messenger</td>\n",
       "      <td>Oren Moverman</td>\n",
       "      <td>6158</td>\n",
       "      <td>53979</td>\n",
       "      <td>MO</td>\n",
       "      <td>M</td>\n",
       "    </tr>\n",
       "  </tbody>\n",
       "</table>\n",
       "</div>"
      ],
      "text/plain": [
       "                                                  Movie          Director  \\\n",
       "7751  The Metropolitan Opera: Cavalleria Rusticana/p...     David McVicar   \n",
       "7753                    The Divergent Series: Allegiant  Robert Schwentke   \n",
       "7756                                      The Messenger     Oren Moverman   \n",
       "\n",
       "      Movie_ID  Director_ID DirectorBlock MovieBlock  \n",
       "7751      3278        53278            DM       CMOR  \n",
       "7753      5865        55103            RS        ADS  \n",
       "7756      6158        53979            MO          M  "
      ]
     },
     "execution_count": 32,
     "metadata": {},
     "output_type": "execute_result"
    }
   ],
   "source": [
    "# Then add all pairs in the labeled data to the downsampled DataFrame\n",
    "for idx, row in tqdm(labeled_movie_IDs.iterrows(), total=labeled_movie_IDs.shape[0]):\n",
    "        \n",
    "    # Fetch the movie names\n",
    "    left_movie_name = ID_to_movie[row.l_movie_id]\n",
    "    right_movie_name = ID_to_movie[row.r_movie_id]\n",
    "    \n",
    "    # Fetch the director IDs\n",
    "    left_director_id = directorOf_obs[directorOf_obs['Movie_ID'] == row.l_movie_id].Director_ID.values[0]\n",
    "    right_director_id = directorOf_obs[directorOf_obs['Movie_ID'] == row.r_movie_id].Director_ID.values[0]\n",
    "    \n",
    "    # Fetch director names\n",
    "    left_director_name = ID_to_director[left_director_id]\n",
    "    right_director_name = ID_to_director[right_director_id]\n",
    "    \n",
    "    # Generate director blocks\n",
    "    left_director_block = pd.Series(left_director_name).apply(strip_punctuation_selective).apply(generate_blocks)[0]\n",
    "    right_director_block = pd.Series(right_director_name).apply(strip_punctuation_selective).apply(generate_blocks)[0]\n",
    "    \n",
    "    # Generate movie blocks\n",
    "    left_movie_block = pd.Series(left_movie_name).apply(strip_punctuation_selective).apply(generate_blocks)[0]\n",
    "    right_movie_block = pd.Series(right_movie_name).apply(strip_punctuation_selective).apply(generate_blocks)[0]    \n",
    "    \n",
    "    # Create one dictionary per movie (left and right)\n",
    "    left_dict = {'Movie': left_movie_name,\n",
    "                 'Director': left_director_name,\n",
    "                 'Movie_ID': row.l_movie_id,\n",
    "                 'Director_ID': left_director_id,\n",
    "                 'DirectorBlock': left_director_block,\n",
    "                 'MovieBlock': left_movie_block}\n",
    "    \n",
    "    right_dict = {'Movie': right_movie_name,\n",
    "                  'Director': right_director_name,\n",
    "                  'Movie_ID': row.r_movie_id,\n",
    "                  'Director_ID': right_director_id,\n",
    "                  'DirectorBlock': right_director_block,\n",
    "                  'MovieBlock': right_movie_block}    \n",
    "    \n",
    "    # Append both samples to the downsamples DataFrame\n",
    "    df_ids_downsampled = df_ids_downsampled.append([left_dict, right_dict], ignore_index=True)\n",
    "    \n",
    "# Appending dictionaries changes the column types to \"object\", return them to proper types\n",
    "df_ids_downsampled = df_ids_downsampled.astype('string')\n",
    "df_ids_downsampled['Movie_ID'] = df_ids_downsampled['Movie_ID'].astype('int')\n",
    "df_ids_downsampled['Director_ID'] = df_ids_downsampled['Director_ID'].astype('int')\n",
    "\n",
    "# Remove any duplicates in the downsampled DataFrame\n",
    "df_ids_downsampled.drop_duplicates(inplace=True)\n",
    "print(f'df_ids_downsampled.shape: {df_ids_downsampled.shape}')\n",
    "df_ids_downsampled.tail(3)"
   ]
  },
  {
   "cell_type": "markdown",
   "id": "forward-revolution",
   "metadata": {},
   "source": [
    "**Filter All Files Based on IDs on the Downsampled File**"
   ]
  },
  {
   "cell_type": "code",
   "execution_count": 33,
   "id": "future-seafood",
   "metadata": {},
   "outputs": [
    {
     "name": "stderr",
     "output_type": "stream",
     "text": [
      "100%|█████████████████████████████████████████████████████████████████████████████| 2362/2362 [00:13<00:00, 175.82it/s]\n"
     ]
    }
   ],
   "source": [
    "# All pairwise comparisons for each downsampled block of Movies\n",
    "with open('downsampled_sameMovie_target.txt', 'w') as f_out:\n",
    "    \n",
    "    # Iterate over blocks\n",
    "    for block in tqdm(df_ids_downsampled['MovieBlock'].unique()):\n",
    "        \n",
    "        # Then do pairwise comparison for all items on the current block\n",
    "        for left_item in df_ids_downsampled[df_ids_downsampled['MovieBlock'] == block]['Movie_ID'].unique():\n",
    "            for right_item in df_ids_downsampled[df_ids_downsampled['MovieBlock'] == block]['Movie_ID'].unique():\n",
    "\n",
    "                # And write to the similarities file\n",
    "                f_out.write(f'{left_item}' + '\\t' + f'{right_item}' + '\\n')"
   ]
  },
  {
   "cell_type": "code",
   "execution_count": 34,
   "id": "broad-services",
   "metadata": {},
   "outputs": [
    {
     "name": "stderr",
     "output_type": "stream",
     "text": [
      "100%|████████████████████████████████████████████████████████████████████████████████| 782/782 [00:09<00:00, 85.00it/s]\n"
     ]
    }
   ],
   "source": [
    "# All pairwise comparisons for each downsampled block of Directors\n",
    "with open('downsampled_sameDirector_target.txt', 'w') as f_out:\n",
    "    \n",
    "    # Iterate over blocks\n",
    "    for block in tqdm(df_ids_downsampled['DirectorBlock'].unique()):\n",
    "        \n",
    "        # Then do pairwise comparison for all items on the current block\n",
    "        for left_item in df_ids_downsampled[df_ids_downsampled['DirectorBlock'] == block]['Director_ID'].unique():\n",
    "            for right_item in df_ids_downsampled[df_ids_downsampled['DirectorBlock'] == block]['Director_ID'].unique():\n",
    "\n",
    "                # And write to the similarities file\n",
    "                f_out.write(f'{left_item}' + '\\t' + f'{right_item}' + '\\n')"
   ]
  },
  {
   "cell_type": "code",
   "execution_count": 35,
   "id": "welcome-aerospace",
   "metadata": {},
   "outputs": [
    {
     "name": "stdout",
     "output_type": "stream",
     "text": [
      "downsampled_directorBlock_obs.shape: (4452, 2)\n"
     ]
    }
   ],
   "source": [
    "downsampled_directorBlock_obs = directorBlock_obs[directorBlock_obs['Director_ID'].isin(df_ids_downsampled['Director_ID'].values)]\n",
    "downsampled_directorBlock_obs.to_csv('downsampled_directorBlock_obs.txt', sep='\\t', header=False, index=False)\n",
    "print(f'downsampled_directorBlock_obs.shape: {downsampled_directorBlock_obs.shape}')"
   ]
  },
  {
   "cell_type": "code",
   "execution_count": 36,
   "id": "impossible-timothy",
   "metadata": {},
   "outputs": [
    {
     "name": "stdout",
     "output_type": "stream",
     "text": [
      "downsampled_directorName_obs.shape: (4452, 2)\n"
     ]
    }
   ],
   "source": [
    "downsampled_directorName_obs = directorName_obs[directorName_obs['Director_ID'].isin(df_ids_downsampled['Director_ID'].values)]\n",
    "downsampled_directorName_obs.to_csv('downsampled_directorName_obs.txt', sep='\\t', header=False, index=False)\n",
    "print(f'downsampled_directorName_obs.shape: {downsampled_directorName_obs.shape}')"
   ]
  },
  {
   "cell_type": "code",
   "execution_count": 37,
   "id": "fancy-numbers",
   "metadata": {},
   "outputs": [
    {
     "name": "stdout",
     "output_type": "stream",
     "text": [
      "downsampled_directorOf_obs.shape: (11331, 2)\n"
     ]
    }
   ],
   "source": [
    "downsampled_directorOf_obs = directorOf_obs[directorOf_obs['Director_ID'].isin(df_ids_downsampled['Director_ID'].values) | directorOf_obs['Movie_ID'].isin(df_ids_downsampled['Movie_ID'].values)]\n",
    "downsampled_directorOf_obs.to_csv('downsampled_directorOf_obs.txt', sep='\\t', header=False, index=False)\n",
    "print(f'downsampled_directorOf_obs.shape: {downsampled_directorOf_obs.shape}')"
   ]
  },
  {
   "cell_type": "code",
   "execution_count": 38,
   "id": "outside-wrist",
   "metadata": {},
   "outputs": [
    {
     "name": "stdout",
     "output_type": "stream",
     "text": [
      "downsampled_movieBlock_obs.shape: (5616, 2)\n"
     ]
    }
   ],
   "source": [
    "downsampled_movieBlock_obs = movieBlock_obs[movieBlock_obs['Movie_ID'].isin(df_ids_downsampled['Movie_ID'].values)]\n",
    "downsampled_movieBlock_obs.to_csv('downsampled_movieBlock_obs.txt', sep='\\t', header=False, index=False)\n",
    "print(f'downsampled_movieBlock_obs.shape: {downsampled_movieBlock_obs.shape}')"
   ]
  },
  {
   "cell_type": "code",
   "execution_count": 39,
   "id": "solid-angle",
   "metadata": {},
   "outputs": [
    {
     "name": "stdout",
     "output_type": "stream",
     "text": [
      "downsampled_movieTitle_obs.shape: (5616, 2)\n"
     ]
    }
   ],
   "source": [
    "downsampled_movieTitle_obs = movieBlock_obs[movieBlock_obs['Movie_ID'].isin(df_ids_downsampled['Movie_ID'].values)]\n",
    "downsampled_movieTitle_obs.to_csv('downsampled_movieTitle_obs.txt', sep='\\t', header=False, index=False)\n",
    "print(f'downsampled_movieTitle_obs.shape: {downsampled_movieTitle_obs.shape}')"
   ]
  },
  {
   "cell_type": "code",
   "execution_count": 40,
   "id": "creative-breakfast",
   "metadata": {},
   "outputs": [
    {
     "name": "stderr",
     "output_type": "stream",
     "text": [
      "100%|████████████████████████████████████████████████████████████████████████████████| 782/782 [00:14<00:00, 53.07it/s]\n"
     ]
    }
   ],
   "source": [
    "jaro_winkler = JaroWinkler().similarity\n",
    "\n",
    "with open('downsampled_simDirector_obs.txt', 'w') as f_out:\n",
    "\n",
    "    # Iterate over blocks\n",
    "    for block in tqdm(df_ids_downsampled['DirectorBlock'].unique()):\n",
    "        \n",
    "        # Then do pairwise comparison for all items on the current block\n",
    "        for left_item in df_ids_downsampled[df_ids_downsampled['DirectorBlock'] == block]['Director'].unique():\n",
    "            for right_item in df_ids[df_ids['DirectorBlock'] == block]['Director'].unique():\n",
    "\n",
    "                # Calculate similarity\n",
    "                similarity = jaro_winkler(left_item, right_item)\n",
    "                \n",
    "                # Get IDs\n",
    "                left_id = director_to_ID[left_item]\n",
    "                right_id = director_to_ID[right_item]\n",
    "                \n",
    "                # And write to the similarities file\n",
    "                f_out.write(f'{left_id}' + '\\t' + f'{right_id}' + '\\t' + f'{similarity}' + '\\n')"
   ]
  },
  {
   "cell_type": "code",
   "execution_count": 41,
   "id": "reverse-semiconductor",
   "metadata": {},
   "outputs": [
    {
     "name": "stderr",
     "output_type": "stream",
     "text": [
      "100%|█████████████████████████████████████████████████████████████████████████████| 2362/2362 [00:22<00:00, 106.09it/s]\n"
     ]
    }
   ],
   "source": [
    "normalized_levenshtein = NormalizedLevenshtein().similarity\n",
    "\n",
    "with open('downsampled_simMovie_obs.txt', 'w') as f_out:\n",
    "\n",
    "    # Iterate over blocks\n",
    "    for block in tqdm(df_ids_downsampled['MovieBlock'].unique()):\n",
    "        \n",
    "        # Then do pairwise comparison for all items on the current block\n",
    "        for left_item in df_ids_downsampled[df_ids_downsampled['MovieBlock'] == block]['Movie'].unique():\n",
    "            for right_item in df_ids_downsampled[df_ids_downsampled['MovieBlock'] == block]['Movie'].unique():\n",
    "\n",
    "                # Calculate similarity\n",
    "                similarity = normalized_levenshtein(left_item.lower(), right_item.lower())\n",
    "                \n",
    "                # Get IDs\n",
    "                left_id = movie_to_ID[left_item]\n",
    "                right_id = movie_to_ID[right_item]\n",
    "                \n",
    "                # And write to the similarities file\n",
    "                f_out.write(f'{left_id}' + '\\t' + f'{right_id}' + '\\t' + f'{similarity}' + '\\n')"
   ]
  },
  {
   "cell_type": "markdown",
   "id": "civil-chrome",
   "metadata": {},
   "source": [
    "## 10. Define Data Structure"
   ]
  },
  {
   "cell_type": "code",
   "execution_count": 46,
   "id": "posted-plumbing",
   "metadata": {},
   "outputs": [],
   "source": [
    "with open(\"data_file.data\", 'w') as data_file:\n",
    "    data_file.write(\"\"\"\n",
    "predicates:\n",
    "   DirectorName/2:\n",
    "      - closed\n",
    "      - types:\n",
    "         - UniqueIntID\n",
    "         - UniqueStringID\n",
    "   DirectorBlock/2:\n",
    "      - closed\n",
    "      - block\n",
    "      - types:\n",
    "         - UniqueIntID\n",
    "         - UniqueStringID\n",
    "   DirectorOf/2:\n",
    "      - closed\n",
    "      - types:\n",
    "         - UniqueIntID\n",
    "         - UniqueIntID\n",
    "   MovieTitle/2:\n",
    "      - closed\n",
    "      - types:\n",
    "         - UniqueIntID\n",
    "         - UniqueStringID\n",
    "   MovieBlock/2:\n",
    "      - closed\n",
    "      - block\n",
    "      - types:\n",
    "         - UniqueIntID\n",
    "         - UniqueStringID\n",
    "   SimDirector/2:\n",
    "      - closed\n",
    "      - types:\n",
    "         - UniqueStringID\n",
    "         - UniqueStringID\n",
    "   SimMovie/2:\n",
    "      - closed\n",
    "      - types:\n",
    "         - UniqueStringID\n",
    "         - UniqueStringID\n",
    "   SameMovie/2:\n",
    "      - open\n",
    "      - types:\n",
    "         - UniqueIntID\n",
    "         - UniqueIntID\n",
    "   SameDirector/2:\n",
    "      - open\n",
    "      - types:\n",
    "         - UniqueIntID\n",
    "         - UniqueIntID\n",
    "\n",
    "observations:\n",
    "   DirectorName: downsampled_directorName_obs.txt\n",
    "   DirectorBlock: downsampled_directorBlock_obs.txt\n",
    "   DirectorOf: downsampled_directorOf_obs.txt\n",
    "   MovieTitle: downsampled_movieTitle_obs.txt\n",
    "   MovieBlock: downsampled_movieBlock_obs.txt\n",
    "   SimDirector: downsampled_simDirector_obs.txt\n",
    "   SimMovie: downsampled_simMovie_obs.txt\n",
    "\n",
    "targets:\n",
    "   SameMovie: downsampled_sameMovie_target.txt\n",
    "   SameDirector: downsampled_sameDirector_target.txt\n",
    "\"\"\")"
   ]
  },
  {
   "cell_type": "markdown",
   "id": "extra-diabetes",
   "metadata": {},
   "source": [
    "## 11. Define Probabilistic Soft Logic (PSL) Rules"
   ]
  },
  {
   "cell_type": "code",
   "execution_count": 47,
   "id": "cheap-public",
   "metadata": {},
   "outputs": [],
   "source": [
    "with open(\"psl_file.psl\", 'w') as data_file:\n",
    "    data_file.write(\"\"\"\n",
    "// Look for text similarity.\n",
    "40.0: DirectorName(D1, N1) & DirectorName(D2, N2) & SimDirector(N1, N2) & (D1 != D2) -> SameDirector(D1, D2) ^2\n",
    "40.0: MovieTitle(M1, T1) & MovieTitle(M2, T2) & SimMovie(T1, T2) & (M1 != M2) -> SameMovie(M1, M2) ^2\n",
    "\n",
    "// Pure transitivity (Director)\n",
    "20.0: DirectorBlock(D1, B) & DirectorBlock(D2, B) & DirectorBlock(D3, B)\n",
    "   & SameDirector(D1, D2) & SameDirector(D2, D3)\n",
    "   & (D1 != D3) & (D1 != D2) & (D2 != D3)\n",
    "   -> SameDirector(D1, D3) ^2\n",
    "\n",
    "// Pure transitivity (Movie)\n",
    "20.0: MovieBlock(M1, B) & MovieBlock(M2, B) & MovieBlock(M3, B)\n",
    "   & SameMovie(M1, M2) & SameMovie(M2, M3)\n",
    "   & (M1 != M3) & (M1 != M2) & (M2 != M3)\n",
    "   -> SameMovie(M1, M3) ^2\n",
    "\n",
    "// Collective KG-Based ER Rules (Codirector rectangle closure)\n",
    "20.0: DirectorBlock(D1, B1) & DirectorBlock(D2, B1) & DirectorBlock(CD1, B2) & DirectorBlock(CD2, B2) &\n",
    "   & DirectorOf(D1, M1) & DirectorOf(D2, M2)\n",
    "   & DirectorOf(CD1, M1) & DirectorOf(CD2, M2) & SameDirector(CD1, CD2)\n",
    "   & (D1 != CD1) & (D2 != CD2) & (M1 != M2)\n",
    "   -> SameDirector(D1, D2) ^2\n",
    "\n",
    "// Collective KG-Based ER Rules (Movie rectangle closure)\n",
    "10.0: DirectorBlock(D1, B1) & DirectorBlock(D2, B1)\n",
    "   & DirectorOf(D1, M1) & DirectorOf(D2, M2)\n",
    "   & SameMovie(M1, M2)\n",
    "   -> SameDirector(D1, D2) ^2\n",
    "\n",
    "// Self-refernece.\n",
    "SameDirector(A, A) = 1.0 .\n",
    "SameMovie(P, P) = 1.0 .\n",
    "\n",
    "// Negative priors.\n",
    "1.0: !SameDirector(D1, D2) ^2\n",
    "1.0: !SameMovie(D1, D2) ^2\n",
    "\n",
    "\"\"\")"
   ]
  },
  {
   "cell_type": "markdown",
   "id": "thrown-restoration",
   "metadata": {},
   "source": [
    "## 12. Run PSL Inference"
   ]
  },
  {
   "cell_type": "code",
   "execution_count": 14,
   "id": "respected-school",
   "metadata": {},
   "outputs": [
    {
     "name": "stdout",
     "output_type": "stream",
     "text": [
      "^C\n"
     ]
    }
   ],
   "source": [
    "%%time\n",
    "# This might take a while...\n",
    "!java -Xmx6g -jar psl-cli-2.2.1.jar --infer --model psl_file.psl --data data_file.data --output inferred_predicates"
   ]
  },
  {
   "cell_type": "markdown",
   "id": "behind-azerbaijan",
   "metadata": {},
   "source": [
    "## 13. Load Truth and Predictions"
   ]
  },
  {
   "cell_type": "markdown",
   "id": "hungry-belize",
   "metadata": {},
   "source": [
    "**Ground Truth**"
   ]
  },
  {
   "cell_type": "code",
   "execution_count": 48,
   "id": "configured-hotel",
   "metadata": {},
   "outputs": [
    {
     "name": "stdout",
     "output_type": "stream",
     "text": [
      "df_truth.shape: (598, 3)\n"
     ]
    },
    {
     "data": {
      "text/html": [
       "<div>\n",
       "<style scoped>\n",
       "    .dataframe tbody tr th:only-of-type {\n",
       "        vertical-align: middle;\n",
       "    }\n",
       "\n",
       "    .dataframe tbody tr th {\n",
       "        vertical-align: top;\n",
       "    }\n",
       "\n",
       "    .dataframe thead th {\n",
       "        text-align: right;\n",
       "    }\n",
       "</style>\n",
       "<table border=\"1\" class=\"dataframe\">\n",
       "  <thead>\n",
       "    <tr style=\"text-align: right;\">\n",
       "      <th></th>\n",
       "      <th>0</th>\n",
       "      <th>1</th>\n",
       "      <th>2</th>\n",
       "    </tr>\n",
       "  </thead>\n",
       "  <tbody>\n",
       "    <tr>\n",
       "      <th>0</th>\n",
       "      <td>7012</td>\n",
       "      <td>1050</td>\n",
       "      <td>0</td>\n",
       "    </tr>\n",
       "    <tr>\n",
       "      <th>1</th>\n",
       "      <td>46</td>\n",
       "      <td>20</td>\n",
       "      <td>0</td>\n",
       "    </tr>\n",
       "    <tr>\n",
       "      <th>2</th>\n",
       "      <td>26</td>\n",
       "      <td>72</td>\n",
       "      <td>0</td>\n",
       "    </tr>\n",
       "  </tbody>\n",
       "</table>\n",
       "</div>"
      ],
      "text/plain": [
       "      0     1  2\n",
       "0  7012  1050  0\n",
       "1    46    20  0\n",
       "2    26    72  0"
      ]
     },
     "execution_count": 48,
     "metadata": {},
     "output_type": "execute_result"
    }
   ],
   "source": [
    "df_truth = pd.read_csv('labeled_sameMovie_truth.txt', sep='\\t', header=None)\n",
    "print(f'df_truth.shape: {df_truth.shape}')\n",
    "df_truth.head(3)"
   ]
  },
  {
   "cell_type": "code",
   "execution_count": 49,
   "id": "brutal-brief",
   "metadata": {},
   "outputs": [
    {
     "name": "stderr",
     "output_type": "stream",
     "text": [
      "100%|██████████████████████████████████████████████████████████████████████████████| 598/598 [00:00<00:00, 9875.56it/s]\n"
     ]
    },
    {
     "data": {
      "text/plain": [
       "598"
      ]
     },
     "execution_count": 49,
     "metadata": {},
     "output_type": "execute_result"
    }
   ],
   "source": [
    "# Convert to a dict with double index\n",
    "dict_truth = {}\n",
    "for idx, (idx_a, idx_b, truth) in tqdm(df_truth.iterrows(), total=df_truth.shape[0]):\n",
    "    dict_truth[(int(idx_a), int(idx_b))] = int(truth)\n",
    "len(dict_truth)"
   ]
  },
  {
   "cell_type": "code",
   "execution_count": 50,
   "id": "above-python",
   "metadata": {},
   "outputs": [
    {
     "name": "stderr",
     "output_type": "stream",
     "text": [
      "100%|█████████████████████████████████████████████████████████████████████████████| 598/598 [00:00<00:00, 12454.84it/s]\n"
     ]
    },
    {
     "data": {
      "text/plain": [
       "598"
      ]
     },
     "execution_count": 50,
     "metadata": {},
     "output_type": "execute_result"
    }
   ],
   "source": [
    "# Crete a inverse dictionary\n",
    "dict_truth_inverse = {0:[], 1:[]}\n",
    "for idx, (idx_a, idx_b, truth) in tqdm(df_truth.iterrows(), total=df_truth.shape[0]):\n",
    "    if truth >= 0.5:\n",
    "        dict_truth_inverse[1].append((int(idx_a), int(idx_b)))\n",
    "    else:\n",
    "        dict_truth_inverse[0].append((int(idx_a), int(idx_b)))\n",
    "len(dict_truth_inverse[0]) + len(dict_truth_inverse[1])"
   ]
  },
  {
   "cell_type": "markdown",
   "id": "later-share",
   "metadata": {},
   "source": [
    "**Predictions**"
   ]
  },
  {
   "cell_type": "code",
   "execution_count": 52,
   "id": "enclosed-helping",
   "metadata": {},
   "outputs": [
    {
     "name": "stdout",
     "output_type": "stream",
     "text": [
      "df_pred.shape: (109876, 3)\n"
     ]
    },
    {
     "data": {
      "text/html": [
       "<div>\n",
       "<style scoped>\n",
       "    .dataframe tbody tr th:only-of-type {\n",
       "        vertical-align: middle;\n",
       "    }\n",
       "\n",
       "    .dataframe tbody tr th {\n",
       "        vertical-align: top;\n",
       "    }\n",
       "\n",
       "    .dataframe thead th {\n",
       "        text-align: right;\n",
       "    }\n",
       "</style>\n",
       "<table border=\"1\" class=\"dataframe\">\n",
       "  <thead>\n",
       "    <tr style=\"text-align: right;\">\n",
       "      <th></th>\n",
       "      <th>0</th>\n",
       "      <th>1</th>\n",
       "      <th>2</th>\n",
       "    </tr>\n",
       "  </thead>\n",
       "  <tbody>\n",
       "    <tr>\n",
       "      <th>0</th>\n",
       "      <td>103</td>\n",
       "      <td>1115</td>\n",
       "      <td>0.009894</td>\n",
       "    </tr>\n",
       "    <tr>\n",
       "      <th>1</th>\n",
       "      <td>13</td>\n",
       "      <td>4453</td>\n",
       "      <td>0.000428</td>\n",
       "    </tr>\n",
       "    <tr>\n",
       "      <th>2</th>\n",
       "      <td>79</td>\n",
       "      <td>2012</td>\n",
       "      <td>0.001250</td>\n",
       "    </tr>\n",
       "  </tbody>\n",
       "</table>\n",
       "</div>"
      ],
      "text/plain": [
       "     0     1         2\n",
       "0  103  1115  0.009894\n",
       "1   13  4453  0.000428\n",
       "2   79  2012  0.001250"
      ]
     },
     "execution_count": 52,
     "metadata": {},
     "output_type": "execute_result"
    }
   ],
   "source": [
    "df_pred = pd.read_csv('./inferred_predicates/SAMEMOVIE.txt', sep='\\t', header=None)\n",
    "print(f'df_pred.shape: {df_pred.shape}')\n",
    "df_pred.head(3)"
   ]
  },
  {
   "cell_type": "markdown",
   "id": "opponent-washer",
   "metadata": {},
   "source": [
    "The size of the my DataFrame with predictions is smaller than that of the DataFrame with the truth because the truth DataFrame containts many true non-matches, which weren't even generated by my code as nearly all of those non-matches didn't even fall within the same block, making it impossible for me to even predict their non-matchess."
   ]
  },
  {
   "cell_type": "code",
   "execution_count": 53,
   "id": "current-rescue",
   "metadata": {},
   "outputs": [
    {
     "name": "stderr",
     "output_type": "stream",
     "text": [
      "100%|███████████████████████████████████████████████████████████████████████| 109876/109876 [00:06<00:00, 17207.69it/s]\n"
     ]
    },
    {
     "data": {
      "text/plain": [
       "109876"
      ]
     },
     "execution_count": 53,
     "metadata": {},
     "output_type": "execute_result"
    }
   ],
   "source": [
    "# Convert to a dict with double index\n",
    "dict_pred = {}\n",
    "for idx, (idx_a, idx_b, call) in tqdm(df_pred.iterrows(), total=df_pred.shape[0]):\n",
    "    dict_pred[(int(idx_a), int(idx_b))] = 1 if call >= 0.5 else 0\n",
    "len(dict_pred)"
   ]
  },
  {
   "cell_type": "code",
   "execution_count": 54,
   "id": "humanitarian-vinyl",
   "metadata": {},
   "outputs": [
    {
     "name": "stderr",
     "output_type": "stream",
     "text": [
      "100%|███████████████████████████████████████████████████████████████████████| 109876/109876 [00:09<00:00, 11830.95it/s]\n"
     ]
    },
    {
     "data": {
      "text/plain": [
       "109876"
      ]
     },
     "execution_count": 54,
     "metadata": {},
     "output_type": "execute_result"
    }
   ],
   "source": [
    "# Crete a inverse dictionary\n",
    "dict_pred_inverse = {0:[], 1:[]}\n",
    "for idx, (idx_a, idx_b, call) in tqdm(df_pred.iterrows(), total=df_pred.shape[0]):\n",
    "    if call >= 0.5:\n",
    "        dict_pred_inverse[1].append((int(idx_a), int(idx_b)))\n",
    "    else:\n",
    "        dict_pred_inverse[0].append((int(idx_a), int(idx_b)))\n",
    "len(dict_pred_inverse[0]) + len(dict_pred_inverse[1])"
   ]
  },
  {
   "cell_type": "markdown",
   "id": "facial-vertex",
   "metadata": {},
   "source": [
    "## 14. Evaluate PSL Model Performance"
   ]
  },
  {
   "cell_type": "markdown",
   "id": "insured-portland",
   "metadata": {},
   "source": [
    "### Precision\n",
    "\n",
    "\"Of all calls I made, how many were correctly made?\""
   ]
  },
  {
   "cell_type": "code",
   "execution_count": 55,
   "id": "eastern-mouse",
   "metadata": {},
   "outputs": [
    {
     "name": "stdout",
     "output_type": "stream",
     "text": [
      "TP:  173\n",
      "FP:    2\n",
      "Precision: 0.98857\n"
     ]
    }
   ],
   "source": [
    "TP = 0\n",
    "FP = 0\n",
    "\n",
    "# dict_pred_inverse[1] = all the calls I made\n",
    "for match in dict_pred_inverse[1]:\n",
    "    # Consider only the samples in the labeled dataset\n",
    "    if match in dict_truth.keys():\n",
    "        if dict_truth.get(match) == 1:\n",
    "            TP += 1\n",
    "        else:\n",
    "            FP += 1\n",
    "        \n",
    "precision = TP / (TP + FP)\n",
    "\n",
    "print(f'TP: {TP:>4}')\n",
    "print(f'FP: {FP:>4}')\n",
    "print(f'Precision: {precision:.5f}')"
   ]
  },
  {
   "cell_type": "markdown",
   "id": "exotic-whale",
   "metadata": {},
   "source": [
    "### Recall\n",
    "\n",
    "\"Of all calls I should have made, how many did I make?\""
   ]
  },
  {
   "cell_type": "code",
   "execution_count": 56,
   "id": "lined-moral",
   "metadata": {},
   "outputs": [
    {
     "name": "stdout",
     "output_type": "stream",
     "text": [
      "TP:  173\n",
      "FN:   16\n",
      "Recall: 0.91534\n"
     ]
    }
   ],
   "source": [
    "TP = 0\n",
    "FN = 0\n",
    "\n",
    "# dict_truth_inverse[1] = all the calls I should have made\n",
    "for match in dict_truth_inverse[1]: \n",
    "    if dict_pred.get(match) == 1:\n",
    "        TP += 1\n",
    "    else:\n",
    "        FN += 1\n",
    "        \n",
    "recall = TP / (TP + FN)\n",
    "\n",
    "print(f'TP: {TP:>4}')\n",
    "print(f'FN: {FN:>4}')\n",
    "print(f'Recall: {recall:.5f}')"
   ]
  },
  {
   "cell_type": "markdown",
   "id": "thousand-emphasis",
   "metadata": {},
   "source": [
    "### F1-Score"
   ]
  },
  {
   "cell_type": "code",
   "execution_count": 57,
   "id": "statewide-carpet",
   "metadata": {},
   "outputs": [
    {
     "name": "stdout",
     "output_type": "stream",
     "text": [
      "F1 Score: 0.95055\n"
     ]
    }
   ],
   "source": [
    "F1 = (2 * precision * recall) / (precision + recall)\n",
    "print(f'F1 Score: {F1:.5f}')"
   ]
  },
  {
   "cell_type": "markdown",
   "id": "liked-lounge",
   "metadata": {},
   "source": [
    "## 15. Improve the Model by Tweaking the Classification Threshold"
   ]
  },
  {
   "cell_type": "markdown",
   "id": "neutral-prospect",
   "metadata": {},
   "source": [
    "**Grid Search Over Classification Threshold**"
   ]
  },
  {
   "cell_type": "code",
   "execution_count": 45,
   "id": "after-faith",
   "metadata": {},
   "outputs": [
    {
     "name": "stderr",
     "output_type": "stream",
     "text": [
      "100%|██████████████████████████████████████████████████████████████████████████████████| 21/21 [05:18<00:00, 15.15s/it]\n"
     ]
    },
    {
     "data": {
      "text/html": [
       "<div>\n",
       "<style scoped>\n",
       "    .dataframe tbody tr th:only-of-type {\n",
       "        vertical-align: middle;\n",
       "    }\n",
       "\n",
       "    .dataframe tbody tr th {\n",
       "        vertical-align: top;\n",
       "    }\n",
       "\n",
       "    .dataframe thead th {\n",
       "        text-align: right;\n",
       "    }\n",
       "</style>\n",
       "<table border=\"1\" class=\"dataframe\">\n",
       "  <thead>\n",
       "    <tr style=\"text-align: right;\">\n",
       "      <th></th>\n",
       "      <th>TP</th>\n",
       "      <th>FP</th>\n",
       "      <th>FN</th>\n",
       "      <th>Precision</th>\n",
       "      <th>Recall</th>\n",
       "      <th>F1 Score</th>\n",
       "    </tr>\n",
       "  </thead>\n",
       "  <tbody>\n",
       "    <tr>\n",
       "      <th>0.00</th>\n",
       "      <td>183</td>\n",
       "      <td>38</td>\n",
       "      <td>6</td>\n",
       "      <td>0.828054</td>\n",
       "      <td>0.968254</td>\n",
       "      <td>0.892683</td>\n",
       "    </tr>\n",
       "    <tr>\n",
       "      <th>0.05</th>\n",
       "      <td>173</td>\n",
       "      <td>2</td>\n",
       "      <td>16</td>\n",
       "      <td>0.988571</td>\n",
       "      <td>0.915344</td>\n",
       "      <td>0.950549</td>\n",
       "    </tr>\n",
       "    <tr>\n",
       "      <th>0.10</th>\n",
       "      <td>173</td>\n",
       "      <td>2</td>\n",
       "      <td>16</td>\n",
       "      <td>0.988571</td>\n",
       "      <td>0.915344</td>\n",
       "      <td>0.950549</td>\n",
       "    </tr>\n",
       "    <tr>\n",
       "      <th>0.15</th>\n",
       "      <td>173</td>\n",
       "      <td>2</td>\n",
       "      <td>16</td>\n",
       "      <td>0.988571</td>\n",
       "      <td>0.915344</td>\n",
       "      <td>0.950549</td>\n",
       "    </tr>\n",
       "    <tr>\n",
       "      <th>0.20</th>\n",
       "      <td>173</td>\n",
       "      <td>2</td>\n",
       "      <td>16</td>\n",
       "      <td>0.988571</td>\n",
       "      <td>0.915344</td>\n",
       "      <td>0.950549</td>\n",
       "    </tr>\n",
       "    <tr>\n",
       "      <th>0.25</th>\n",
       "      <td>173</td>\n",
       "      <td>2</td>\n",
       "      <td>16</td>\n",
       "      <td>0.988571</td>\n",
       "      <td>0.915344</td>\n",
       "      <td>0.950549</td>\n",
       "    </tr>\n",
       "    <tr>\n",
       "      <th>0.30</th>\n",
       "      <td>173</td>\n",
       "      <td>2</td>\n",
       "      <td>16</td>\n",
       "      <td>0.988571</td>\n",
       "      <td>0.915344</td>\n",
       "      <td>0.950549</td>\n",
       "    </tr>\n",
       "    <tr>\n",
       "      <th>0.35</th>\n",
       "      <td>173</td>\n",
       "      <td>2</td>\n",
       "      <td>16</td>\n",
       "      <td>0.988571</td>\n",
       "      <td>0.915344</td>\n",
       "      <td>0.950549</td>\n",
       "    </tr>\n",
       "    <tr>\n",
       "      <th>0.40</th>\n",
       "      <td>173</td>\n",
       "      <td>2</td>\n",
       "      <td>16</td>\n",
       "      <td>0.988571</td>\n",
       "      <td>0.915344</td>\n",
       "      <td>0.950549</td>\n",
       "    </tr>\n",
       "    <tr>\n",
       "      <th>0.45</th>\n",
       "      <td>173</td>\n",
       "      <td>2</td>\n",
       "      <td>16</td>\n",
       "      <td>0.988571</td>\n",
       "      <td>0.915344</td>\n",
       "      <td>0.950549</td>\n",
       "    </tr>\n",
       "    <tr>\n",
       "      <th>0.50</th>\n",
       "      <td>173</td>\n",
       "      <td>2</td>\n",
       "      <td>16</td>\n",
       "      <td>0.988571</td>\n",
       "      <td>0.915344</td>\n",
       "      <td>0.950549</td>\n",
       "    </tr>\n",
       "    <tr>\n",
       "      <th>0.55</th>\n",
       "      <td>173</td>\n",
       "      <td>2</td>\n",
       "      <td>16</td>\n",
       "      <td>0.988571</td>\n",
       "      <td>0.915344</td>\n",
       "      <td>0.950549</td>\n",
       "    </tr>\n",
       "    <tr>\n",
       "      <th>0.60</th>\n",
       "      <td>173</td>\n",
       "      <td>2</td>\n",
       "      <td>16</td>\n",
       "      <td>0.988571</td>\n",
       "      <td>0.915344</td>\n",
       "      <td>0.950549</td>\n",
       "    </tr>\n",
       "    <tr>\n",
       "      <th>0.65</th>\n",
       "      <td>173</td>\n",
       "      <td>2</td>\n",
       "      <td>16</td>\n",
       "      <td>0.988571</td>\n",
       "      <td>0.915344</td>\n",
       "      <td>0.950549</td>\n",
       "    </tr>\n",
       "    <tr>\n",
       "      <th>0.70</th>\n",
       "      <td>173</td>\n",
       "      <td>2</td>\n",
       "      <td>16</td>\n",
       "      <td>0.988571</td>\n",
       "      <td>0.915344</td>\n",
       "      <td>0.950549</td>\n",
       "    </tr>\n",
       "    <tr>\n",
       "      <th>0.75</th>\n",
       "      <td>173</td>\n",
       "      <td>2</td>\n",
       "      <td>16</td>\n",
       "      <td>0.988571</td>\n",
       "      <td>0.915344</td>\n",
       "      <td>0.950549</td>\n",
       "    </tr>\n",
       "    <tr>\n",
       "      <th>0.80</th>\n",
       "      <td>173</td>\n",
       "      <td>2</td>\n",
       "      <td>16</td>\n",
       "      <td>0.988571</td>\n",
       "      <td>0.915344</td>\n",
       "      <td>0.950549</td>\n",
       "    </tr>\n",
       "    <tr>\n",
       "      <th>0.85</th>\n",
       "      <td>173</td>\n",
       "      <td>2</td>\n",
       "      <td>16</td>\n",
       "      <td>0.988571</td>\n",
       "      <td>0.915344</td>\n",
       "      <td>0.950549</td>\n",
       "    </tr>\n",
       "    <tr>\n",
       "      <th>0.90</th>\n",
       "      <td>173</td>\n",
       "      <td>2</td>\n",
       "      <td>16</td>\n",
       "      <td>0.988571</td>\n",
       "      <td>0.915344</td>\n",
       "      <td>0.950549</td>\n",
       "    </tr>\n",
       "    <tr>\n",
       "      <th>0.95</th>\n",
       "      <td>173</td>\n",
       "      <td>2</td>\n",
       "      <td>16</td>\n",
       "      <td>0.988571</td>\n",
       "      <td>0.915344</td>\n",
       "      <td>0.950549</td>\n",
       "    </tr>\n",
       "    <tr>\n",
       "      <th>1.00</th>\n",
       "      <td>173</td>\n",
       "      <td>2</td>\n",
       "      <td>16</td>\n",
       "      <td>0.988571</td>\n",
       "      <td>0.915344</td>\n",
       "      <td>0.950549</td>\n",
       "    </tr>\n",
       "  </tbody>\n",
       "</table>\n",
       "</div>"
      ],
      "text/plain": [
       "       TP  FP  FN Precision    Recall  F1 Score\n",
       "0.00  183  38   6  0.828054  0.968254  0.892683\n",
       "0.05  173   2  16  0.988571  0.915344  0.950549\n",
       "0.10  173   2  16  0.988571  0.915344  0.950549\n",
       "0.15  173   2  16  0.988571  0.915344  0.950549\n",
       "0.20  173   2  16  0.988571  0.915344  0.950549\n",
       "0.25  173   2  16  0.988571  0.915344  0.950549\n",
       "0.30  173   2  16  0.988571  0.915344  0.950549\n",
       "0.35  173   2  16  0.988571  0.915344  0.950549\n",
       "0.40  173   2  16  0.988571  0.915344  0.950549\n",
       "0.45  173   2  16  0.988571  0.915344  0.950549\n",
       "0.50  173   2  16  0.988571  0.915344  0.950549\n",
       "0.55  173   2  16  0.988571  0.915344  0.950549\n",
       "0.60  173   2  16  0.988571  0.915344  0.950549\n",
       "0.65  173   2  16  0.988571  0.915344  0.950549\n",
       "0.70  173   2  16  0.988571  0.915344  0.950549\n",
       "0.75  173   2  16  0.988571  0.915344  0.950549\n",
       "0.80  173   2  16  0.988571  0.915344  0.950549\n",
       "0.85  173   2  16  0.988571  0.915344  0.950549\n",
       "0.90  173   2  16  0.988571  0.915344  0.950549\n",
       "0.95  173   2  16  0.988571  0.915344  0.950549\n",
       "1.00  173   2  16  0.988571  0.915344  0.950549"
      ]
     },
     "execution_count": 45,
     "metadata": {},
     "output_type": "execute_result"
    }
   ],
   "source": [
    "# DataFrame to keep track of results at each threshold\n",
    "grid_search_df = pd.DataFrame(columns = ['TP', 'FP', 'FN', 'Precision', 'Recall', 'F1 Score'])\n",
    "\n",
    "# Generate thresholds in increments of 5%\n",
    "thresholds = [x/100 for x in range(0,101,5)]\n",
    "\n",
    "# Then loop over the thresholds\n",
    "for threshold in tqdm(thresholds):\n",
    "    \n",
    "    ################################\n",
    "    ### Predictions Dictionaries ###\n",
    "    ################################\n",
    "    \n",
    "    dict_pred = {}\n",
    "    for idx, (idx_a, idx_b, call) in df_pred.iterrows():\n",
    "        dict_pred[(int(idx_a), int(idx_b))] = 1 if call >= threshold else 0\n",
    "        \n",
    "    dict_pred_inverse = {0:[], 1:[]}\n",
    "    for idx, (idx_a, idx_b, call) in df_pred.iterrows():\n",
    "        if call >= threshold:\n",
    "            dict_pred_inverse[1].append((int(idx_a), int(idx_b)))\n",
    "        else:\n",
    "            dict_pred_inverse[0].append((int(idx_a), int(idx_b)))\n",
    "\n",
    "            \n",
    "    #################        \n",
    "    ### Precision ###\n",
    "    #################\n",
    "    \n",
    "    TP = 0\n",
    "    FP = 0\n",
    "\n",
    "    # dict_pred_inverse[1] = all the calls I made\n",
    "    for match in dict_pred_inverse[1]:\n",
    "        # Consider only the samples in the labeled dataset\n",
    "        if match in dict_truth.keys():\n",
    "            if dict_truth.get(match) == 1:\n",
    "                TP += 1\n",
    "            else:\n",
    "                FP += 1\n",
    "\n",
    "    precision = TP / (TP + FP)    \n",
    "    \n",
    "    \n",
    "    ##############\n",
    "    ### Recall ###\n",
    "    ##############\n",
    "    \n",
    "    TP = 0\n",
    "    FN = 0\n",
    "\n",
    "    # dict_truth_inverse[1] = all the calls I should have made\n",
    "    for match in dict_truth_inverse[1]: \n",
    "        if dict_pred.get(match) == 1:\n",
    "            TP += 1\n",
    "        else:\n",
    "            FN += 1\n",
    "\n",
    "    recall = TP / (TP + FN)\n",
    "    \n",
    "    \n",
    "    ################\n",
    "    ### F1-Score ###\n",
    "    ################\n",
    "    \n",
    "    F1 = (2 * precision * recall) / (precision + recall)\n",
    "   \n",
    "    \n",
    "    ########################################\n",
    "    ### DataFrame with Iteration Results ###\n",
    "    ########################################\n",
    "    \n",
    "    grid_search_df.at[threshold, 'TP'] = TP\n",
    "    grid_search_df.at[threshold, 'FP'] = FP\n",
    "    grid_search_df.at[threshold, 'FN'] = FN\n",
    "    grid_search_df.at[threshold, 'Precision'] = precision\n",
    "    grid_search_df.at[threshold, 'Recall'] = recall\n",
    "    grid_search_df.at[threshold, 'F1 Score'] = F1\n",
    "    \n",
    "# View results\n",
    "grid_search_df"
   ]
  },
  {
   "cell_type": "markdown",
   "id": "remarkable-system",
   "metadata": {},
   "source": [
    "**Precision-Recall Curve**"
   ]
  },
  {
   "cell_type": "code",
   "execution_count": 43,
   "id": "induced-sapphire",
   "metadata": {},
   "outputs": [
    {
     "data": {
      "text/plain": [
       "<AxesSubplot:title={'center':'Precision Recall Curve'}, xlabel='Recall', ylabel='Precison'>"
      ]
     },
     "execution_count": 43,
     "metadata": {},
     "output_type": "execute_result"
    },
    {
     "data": {
      "image/png": "[encoded data removed]",
      "text/plain": [
       "<Figure size 432x432 with 1 Axes>"
      ]
     },
     "metadata": {
      "needs_background": "light"
     },
     "output_type": "display_data"
    }
   ],
   "source": [
    "grid_search_df.plot(x='Recall', y='Precision', \n",
    "                    xlim=(0,1), ylim=(0,1), \n",
    "                    xlabel='Recall', ylabel='Precison',\n",
    "                    figsize=(6,6), legend=None,\n",
    "                    title=\"Precision Recall Curve\")"
   ]
  },
  {
   "cell_type": "markdown",
   "id": "diagnostic-large",
   "metadata": {},
   "source": [
    "Turns out that the PSL model with its collective rules is pretty good at pushing the probabilities to the extremes (either 0 or 1), to the point that there there is no need to tweak the classification thresholds to improve the model. The default 0.5 threshold is as good as it gets already!"
   ]
  },
  {
   "cell_type": "markdown",
   "id": "jewish-annotation",
   "metadata": {},
   "source": [
    "**Threshold-F1 Curve**"
   ]
  },
  {
   "cell_type": "code",
   "execution_count": 44,
   "id": "tamil-instruction",
   "metadata": {},
   "outputs": [
    {
     "data": {
      "text/plain": [
       "<AxesSubplot:title={'center':'Threshold F1 Curve'}, xlabel='Threshold', ylabel='Precison'>"
      ]
     },
     "execution_count": 44,
     "metadata": {},
     "output_type": "execute_result"
    },
    {
     "data": {
      "image/png": "[encoded data removed]",
      "text/plain": [
       "<Figure size 432x432 with 1 Axes>"
      ]
     },
     "metadata": {
      "needs_background": "light"
     },
     "output_type": "display_data"
    }
   ],
   "source": [
    "grid_search_df.plot(y='F1 Score', \n",
    "                    xlim=(0,1), ylim=(0,1), \n",
    "                    xlabel='Threshold', ylabel='Precison',\n",
    "                    figsize=(6,6), legend=None,\n",
    "                    title=\"Threshold F1 Curve\")"
   ]
  },
  {
   "cell_type": "markdown",
   "id": "local-dispute",
   "metadata": {},
   "source": [
    "As expected from before: nothing to optimize here!"
   ]
  },
  {
   "cell_type": "markdown",
   "id": "confident-there",
   "metadata": {},
   "source": [
    "# The End\n",
    "\n",
    "Matheus Schmitz  \n",
    "<a href=\"https://www.linkedin.com/in/matheusschmitz/\">LinkedIn</a>  \n",
    "<a href=\"https://matheus-schmitz.github.io/\">Github Portfolio</a>  "
   ]
  }
 ],
 "metadata": {
  "kernelspec": {
   "display_name": "Python 3",
   "language": "python",
   "name": "python3"
  },
  "language_info": {
   "codemirror_mode": {
    "name": "ipython",
    "version": 3
   },
   "file_extension": ".py",
   "mimetype": "text/x-python",
   "name": "python",
   "nbconvert_exporter": "python",
   "pygments_lexer": "ipython3",
   "version": "3.7.9"
  }
 },
 "nbformat": 4,
 "nbformat_minor": 5
}
